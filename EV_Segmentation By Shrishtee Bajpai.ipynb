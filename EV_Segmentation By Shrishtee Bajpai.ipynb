{
 "cells": [
  {
   "cell_type": "markdown",
   "id": "a06932f2",
   "metadata": {},
   "source": [
    "# EV_Segmentation By Shrishtee Bajpai"
   ]
  },
  {
   "cell_type": "code",
   "execution_count": 1,
   "id": "70e318b3",
   "metadata": {
    "scrolled": true
   },
   "outputs": [
    {
     "name": "stdout",
     "output_type": "stream",
     "text": [
      "Requirement already satisfied: missingno in c:\\users\\hp\\anaconda3\\lib\\site-packages (0.5.2)\n",
      "Requirement already satisfied: matplotlib in c:\\users\\hp\\anaconda3\\lib\\site-packages (from missingno) (3.7.4)\n",
      "Requirement already satisfied: numpy in c:\\users\\hp\\anaconda3\\lib\\site-packages (from missingno) (1.20.1)\n",
      "Requirement already satisfied: seaborn in c:\\users\\hp\\anaconda3\\lib\\site-packages (from missingno) (0.11.1)\n",
      "Requirement already satisfied: scipy in c:\\users\\hp\\anaconda3\\lib\\site-packages (from missingno) (1.6.2)\n",
      "Requirement already satisfied: kiwisolver>=1.0.1 in c:\\users\\hp\\anaconda3\\lib\\site-packages (from matplotlib->missingno) (1.3.1)\n",
      "Requirement already satisfied: packaging>=20.0 in c:\\users\\hp\\anaconda3\\lib\\site-packages (from matplotlib->missingno) (23.2)\n",
      "Requirement already satisfied: pyparsing>=2.3.1 in c:\\users\\hp\\anaconda3\\lib\\site-packages (from matplotlib->missingno) (2.4.7)\n",
      "Requirement already satisfied: fonttools>=4.22.0 in c:\\users\\hp\\anaconda3\\lib\\site-packages (from matplotlib->missingno) (4.48.1)\n",
      "Requirement already satisfied: importlib-resources>=3.2.0 in c:\\users\\hp\\anaconda3\\lib\\site-packages (from matplotlib->missingno) (6.1.1)\n",
      "Requirement already satisfied: contourpy>=1.0.1 in c:\\users\\hp\\anaconda3\\lib\\site-packages (from matplotlib->missingno) (1.1.1)\n",
      "Requirement already satisfied: cycler>=0.10 in c:\\users\\hp\\anaconda3\\lib\\site-packages (from matplotlib->missingno) (0.10.0)\n",
      "Requirement already satisfied: pillow>=6.2.0 in c:\\users\\hp\\anaconda3\\lib\\site-packages (from matplotlib->missingno) (8.2.0)\n",
      "Requirement already satisfied: python-dateutil>=2.7 in c:\\users\\hp\\anaconda3\\lib\\site-packages (from matplotlib->missingno) (2.8.1)\n",
      "Requirement already satisfied: six in c:\\users\\hp\\anaconda3\\lib\\site-packages (from cycler>=0.10->matplotlib->missingno) (1.15.0)\n",
      "Requirement already satisfied: zipp>=3.1.0 in c:\\users\\hp\\anaconda3\\lib\\site-packages (from importlib-resources>=3.2.0->matplotlib->missingno) (3.4.1)\n",
      "Requirement already satisfied: pandas>=0.23 in c:\\users\\hp\\anaconda3\\lib\\site-packages (from seaborn->missingno) (1.2.4)\n",
      "Requirement already satisfied: pytz>=2017.3 in c:\\users\\hp\\anaconda3\\lib\\site-packages (from pandas>=0.23->seaborn->missingno) (2021.1)\n"
     ]
    }
   ],
   "source": [
    "!pip install missingno"
   ]
  },
  {
   "cell_type": "code",
   "execution_count": 2,
   "id": "6ea0ffb9",
   "metadata": {},
   "outputs": [],
   "source": [
    "import numpy as np\n",
    "import pandas as pd\n",
    "import matplotlib.pyplot as plt\n",
    "import seaborn as sns\n",
    "import missingno as msno\n",
    "import nltk\n",
    "from nltk.sentiment import SentimentIntensityAnalyzer\n",
    "from sklearn.preprocessing import StandardScaler\n",
    "from sklearn.decomposition import PCA\n",
    "from sklearn.cluster import KMeans\n",
    "import warnings"
   ]
  },
  {
   "cell_type": "code",
   "execution_count": 3,
   "id": "80cdce81",
   "metadata": {},
   "outputs": [],
   "source": [
    "warnings.filterwarnings(\"ignore\")\n",
    "pd.options.display.max_columns = None"
   ]
  },
  {
   "cell_type": "code",
   "execution_count": 4,
   "id": "25eb699f",
   "metadata": {},
   "outputs": [],
   "source": [
    "warnings.filterwarnings(\"ignore\")\n",
    "pd.options.display.max_columns = None"
   ]
  },
  {
   "cell_type": "markdown",
   "id": "46c64ba0",
   "metadata": {},
   "source": [
    "# Sales Data \n"
   ]
  },
  {
   "cell_type": "markdown",
   "id": "b6bf559f",
   "metadata": {},
   "source": [
    "The sales data obtained from the Society of Manufacturers of Electric Vehicles, spanning 2017 to 2023, catalogues sales figures of electric two-wheelers, three-wheelers, four-wheelers, and buses. This dataset provides a comprehensive view of market trends and customer preferences over time."
   ]
  },
  {
   "cell_type": "code",
   "execution_count": 5,
   "id": "f8cab491",
   "metadata": {},
   "outputs": [],
   "source": [
    "d1 = pd.read_excel(\"dataset.xlsx\", sheet_name=None)"
   ]
  },
  {
   "cell_type": "code",
   "execution_count": 6,
   "id": "3ba9ca94",
   "metadata": {},
   "outputs": [
    {
     "data": {
      "text/plain": [
       "dict_keys(['EV 2W FY 19-20', 'EV 2W FY 20-21', 'EV 2W FY 21-22', 'EV 2W FY 22-23', 'EV Market', 'Electric Bus Sales', 'Electric 4-Wheeler Sales', 'Electric 3-Wheeler Sales', 'Electric 2-Wheeler Sales', 'EV Industries'])"
      ]
     },
     "execution_count": 6,
     "metadata": {},
     "output_type": "execute_result"
    }
   ],
   "source": [
    "d1.keys()"
   ]
  },
  {
   "cell_type": "code",
   "execution_count": 7,
   "id": "6897031b",
   "metadata": {},
   "outputs": [
    {
     "data": {
      "text/html": [
       "<div>\n",
       "<style scoped>\n",
       "    .dataframe tbody tr th:only-of-type {\n",
       "        vertical-align: middle;\n",
       "    }\n",
       "\n",
       "    .dataframe tbody tr th {\n",
       "        vertical-align: top;\n",
       "    }\n",
       "\n",
       "    .dataframe thead th {\n",
       "        text-align: right;\n",
       "    }\n",
       "</style>\n",
       "<table border=\"1\" class=\"dataframe\">\n",
       "  <thead>\n",
       "    <tr style=\"text-align: right;\">\n",
       "      <th></th>\n",
       "      <th>category</th>\n",
       "      <th>financial_year</th>\n",
       "      <th>num_vehicles</th>\n",
       "    </tr>\n",
       "  </thead>\n",
       "  <tbody>\n",
       "    <tr>\n",
       "      <th>0</th>\n",
       "      <td>E-2 Wheelers</td>\n",
       "      <td>2017-18</td>\n",
       "      <td>1981</td>\n",
       "    </tr>\n",
       "    <tr>\n",
       "      <th>1</th>\n",
       "      <td>E-2 Wheelers</td>\n",
       "      <td>2018-19</td>\n",
       "      <td>27478</td>\n",
       "    </tr>\n",
       "    <tr>\n",
       "      <th>2</th>\n",
       "      <td>E-2 Wheelers</td>\n",
       "      <td>2019-20</td>\n",
       "      <td>26512</td>\n",
       "    </tr>\n",
       "    <tr>\n",
       "      <th>3</th>\n",
       "      <td>E-2 Wheelers</td>\n",
       "      <td>2020-21</td>\n",
       "      <td>44294</td>\n",
       "    </tr>\n",
       "    <tr>\n",
       "      <th>4</th>\n",
       "      <td>E-2 Wheelers</td>\n",
       "      <td>2021-22</td>\n",
       "      <td>249615</td>\n",
       "    </tr>\n",
       "    <tr>\n",
       "      <th>5</th>\n",
       "      <td>E-2 Wheelers</td>\n",
       "      <td>2022-23</td>\n",
       "      <td>728090</td>\n",
       "    </tr>\n",
       "    <tr>\n",
       "      <th>6</th>\n",
       "      <td>E-3 Wheelers</td>\n",
       "      <td>2017-18</td>\n",
       "      <td>91970</td>\n",
       "    </tr>\n",
       "    <tr>\n",
       "      <th>7</th>\n",
       "      <td>E-3 Wheelers</td>\n",
       "      <td>2018-19</td>\n",
       "      <td>116031</td>\n",
       "    </tr>\n",
       "    <tr>\n",
       "      <th>8</th>\n",
       "      <td>E-3 Wheelers</td>\n",
       "      <td>2019-20</td>\n",
       "      <td>143051</td>\n",
       "    </tr>\n",
       "    <tr>\n",
       "      <th>9</th>\n",
       "      <td>E-3 Wheelers</td>\n",
       "      <td>2020-21</td>\n",
       "      <td>90898</td>\n",
       "    </tr>\n",
       "    <tr>\n",
       "      <th>10</th>\n",
       "      <td>E-3 Wheelers</td>\n",
       "      <td>2021-22</td>\n",
       "      <td>172543</td>\n",
       "    </tr>\n",
       "    <tr>\n",
       "      <th>11</th>\n",
       "      <td>E-3 Wheelers</td>\n",
       "      <td>2022-23</td>\n",
       "      <td>401882</td>\n",
       "    </tr>\n",
       "    <tr>\n",
       "      <th>12</th>\n",
       "      <td>E-4 Wheelers</td>\n",
       "      <td>2017-18</td>\n",
       "      <td>2242</td>\n",
       "    </tr>\n",
       "    <tr>\n",
       "      <th>13</th>\n",
       "      <td>E-4 Wheelers</td>\n",
       "      <td>2018-19</td>\n",
       "      <td>2407</td>\n",
       "    </tr>\n",
       "    <tr>\n",
       "      <th>14</th>\n",
       "      <td>E-4 Wheelers</td>\n",
       "      <td>2019-20</td>\n",
       "      <td>2404</td>\n",
       "    </tr>\n",
       "    <tr>\n",
       "      <th>15</th>\n",
       "      <td>E-4 Wheelers</td>\n",
       "      <td>2020-21</td>\n",
       "      <td>5201</td>\n",
       "    </tr>\n",
       "    <tr>\n",
       "      <th>16</th>\n",
       "      <td>E-4 Wheelers</td>\n",
       "      <td>2021-22</td>\n",
       "      <td>19782</td>\n",
       "    </tr>\n",
       "    <tr>\n",
       "      <th>17</th>\n",
       "      <td>E-4 Wheelers</td>\n",
       "      <td>2022-23</td>\n",
       "      <td>48105</td>\n",
       "    </tr>\n",
       "    <tr>\n",
       "      <th>18</th>\n",
       "      <td>E-Buses</td>\n",
       "      <td>2017-18</td>\n",
       "      <td>35</td>\n",
       "    </tr>\n",
       "    <tr>\n",
       "      <th>19</th>\n",
       "      <td>E-Buses</td>\n",
       "      <td>2018-19</td>\n",
       "      <td>75</td>\n",
       "    </tr>\n",
       "    <tr>\n",
       "      <th>20</th>\n",
       "      <td>E-Buses</td>\n",
       "      <td>2019-20</td>\n",
       "      <td>369</td>\n",
       "    </tr>\n",
       "    <tr>\n",
       "      <th>21</th>\n",
       "      <td>E-Buses</td>\n",
       "      <td>2020-21</td>\n",
       "      <td>373</td>\n",
       "    </tr>\n",
       "    <tr>\n",
       "      <th>22</th>\n",
       "      <td>E-Buses</td>\n",
       "      <td>2021-22</td>\n",
       "      <td>1198</td>\n",
       "    </tr>\n",
       "    <tr>\n",
       "      <th>23</th>\n",
       "      <td>E-Buses</td>\n",
       "      <td>2022-23</td>\n",
       "      <td>1917</td>\n",
       "    </tr>\n",
       "  </tbody>\n",
       "</table>\n",
       "</div>"
      ],
      "text/plain": [
       "        category financial_year  num_vehicles\n",
       "0   E-2 Wheelers        2017-18          1981\n",
       "1   E-2 Wheelers        2018-19         27478\n",
       "2   E-2 Wheelers        2019-20         26512\n",
       "3   E-2 Wheelers        2020-21         44294\n",
       "4   E-2 Wheelers        2021-22        249615\n",
       "5   E-2 Wheelers        2022-23        728090\n",
       "6   E-3 Wheelers        2017-18         91970\n",
       "7   E-3 Wheelers        2018-19        116031\n",
       "8   E-3 Wheelers        2019-20        143051\n",
       "9   E-3 Wheelers        2020-21         90898\n",
       "10  E-3 Wheelers        2021-22        172543\n",
       "11  E-3 Wheelers        2022-23        401882\n",
       "12  E-4 Wheelers        2017-18          2242\n",
       "13  E-4 Wheelers        2018-19          2407\n",
       "14  E-4 Wheelers        2019-20          2404\n",
       "15  E-4 Wheelers        2020-21          5201\n",
       "16  E-4 Wheelers        2021-22         19782\n",
       "17  E-4 Wheelers        2022-23         48105\n",
       "18       E-Buses        2017-18            35\n",
       "19       E-Buses        2018-19            75\n",
       "20       E-Buses        2019-20           369\n",
       "21       E-Buses        2020-21           373\n",
       "22       E-Buses        2021-22          1198\n",
       "23       E-Buses        2022-23          1917"
      ]
     },
     "execution_count": 7,
     "metadata": {},
     "output_type": "execute_result"
    }
   ],
   "source": [
    "d1['EV Industries']"
   ]
  },
  {
   "cell_type": "code",
   "execution_count": 8,
   "id": "f6458078",
   "metadata": {},
   "outputs": [
    {
     "data": {
      "image/png": "[encoded data removed]",
      "text/plain": [
       "<Figure size 432x288 with 1 Axes>"
      ]
     },
     "metadata": {
      "needs_background": "light"
     },
     "output_type": "display_data"
    }
   ],
   "source": [
    "fig, ax = plt.subplots(figsize=(6, 4))\n",
    "ax = sns.lineplot(data=d1['EV Industries'], x='financial_year', y='num_vehicles', hue='category', marker='o', palette='tab10')\n",
    "plt.xlabel(\"Financial Year\")\n",
    "plt.ylabel(\"Vehicles\")\n",
    "plt.legend(title='Category')\n",
    "\n",
    "# Annotate the last data point\n",
    "for col in d1['EV Industries']['category'].unique():\n",
    "    last_point = d1['EV Industries'][d1['EV Industries']['category'] == col].iloc[-1]\n",
    "    plt.annotate(f\"{last_point['category']}\", \n",
    "                 (last_point['financial_year'], last_point['num_vehicles']),\n",
    "                 textcoords=\"offset points\",\n",
    "                 xytext=(10, -5), \n",
    "                 ha='left')\n",
    "ax.spines[['right', 'top']].set_visible(False)\n",
    "ax.get_legend().set_visible(False)\n",
    "plt.show()"
   ]
  },
  {
   "cell_type": "markdown",
   "id": "3b88e4d3",
   "metadata": {},
   "source": [
    "Above Figure showcased the remarkable growth trajectory of India's two-wheeler market in 2023, underscoring its leading position within the industry"
   ]
  },
  {
   "cell_type": "code",
   "execution_count": 9,
   "id": "6bb33835",
   "metadata": {},
   "outputs": [],
   "source": [
    "ev2w = list(d1.keys())[0:4]\n",
    "data_ev2w = pd.concat([d1[ev2w[0]], d1[ev2w[1]], d1[ev2w[2]], d1[ev2w[3]]])"
   ]
  },
  {
   "cell_type": "code",
   "execution_count": 10,
   "id": "c8827107",
   "metadata": {},
   "outputs": [],
   "source": [
    "data_ev2w['maker'] = data_ev2w['maker'].str.upper()"
   ]
  },
  {
   "cell_type": "code",
   "execution_count": 11,
   "id": "33f66c9a",
   "metadata": {
    "scrolled": true
   },
   "outputs": [
    {
     "data": {
      "text/plain": [
       "array(['AMPERE', 'AMPERE VEHICLES', 'ATHER', 'ATHER ENERGY', 'BAJAJ',\n",
       "       'BEING INDIA', 'BENLING', 'HERO ELECTRIC', 'JITENDRA',\n",
       "       'JITENDRA NEW EV', 'OKAYA EV', 'OKINAWA', 'OKINAWA AUTOTECH',\n",
       "       'OLA ELECTRIC', 'OTHERS', 'PURE EV', 'REVOLT', 'TVS'], dtype=object)"
      ]
     },
     "execution_count": 11,
     "metadata": {},
     "output_type": "execute_result"
    }
   ],
   "source": [
    "np.sort(data_ev2w['maker'].unique())"
   ]
  },
  {
   "cell_type": "code",
   "execution_count": 12,
   "id": "73bb6337",
   "metadata": {
    "scrolled": true
   },
   "outputs": [
    {
     "data": {
      "text/html": [
       "<div>\n",
       "<style scoped>\n",
       "    .dataframe tbody tr th:only-of-type {\n",
       "        vertical-align: middle;\n",
       "    }\n",
       "\n",
       "    .dataframe tbody tr th {\n",
       "        vertical-align: top;\n",
       "    }\n",
       "\n",
       "    .dataframe thead th {\n",
       "        text-align: right;\n",
       "    }\n",
       "</style>\n",
       "<table border=\"1\" class=\"dataframe\">\n",
       "  <thead>\n",
       "    <tr style=\"text-align: right;\">\n",
       "      <th></th>\n",
       "      <th>financial_year</th>\n",
       "      <th>maker</th>\n",
       "      <th>market_share</th>\n",
       "      <th>month</th>\n",
       "      <th>num_vehicles</th>\n",
       "    </tr>\n",
       "  </thead>\n",
       "  <tbody>\n",
       "    <tr>\n",
       "      <th>0</th>\n",
       "      <td>2019-20</td>\n",
       "      <td>HERO ELECTRIC</td>\n",
       "      <td>0.30</td>\n",
       "      <td>Apr</td>\n",
       "      <td>1776</td>\n",
       "    </tr>\n",
       "    <tr>\n",
       "      <th>1</th>\n",
       "      <td>2019-20</td>\n",
       "      <td>HERO ELECTRIC</td>\n",
       "      <td>0.30</td>\n",
       "      <td>May</td>\n",
       "      <td>455</td>\n",
       "    </tr>\n",
       "    <tr>\n",
       "      <th>2</th>\n",
       "      <td>2019-20</td>\n",
       "      <td>HERO ELECTRIC</td>\n",
       "      <td>0.30</td>\n",
       "      <td>Jun</td>\n",
       "      <td>329</td>\n",
       "    </tr>\n",
       "    <tr>\n",
       "      <th>3</th>\n",
       "      <td>2019-20</td>\n",
       "      <td>HERO ELECTRIC</td>\n",
       "      <td>0.30</td>\n",
       "      <td>Jul</td>\n",
       "      <td>260</td>\n",
       "    </tr>\n",
       "    <tr>\n",
       "      <th>4</th>\n",
       "      <td>2019-20</td>\n",
       "      <td>HERO ELECTRIC</td>\n",
       "      <td>0.30</td>\n",
       "      <td>Aug</td>\n",
       "      <td>249</td>\n",
       "    </tr>\n",
       "    <tr>\n",
       "      <th>...</th>\n",
       "      <td>...</td>\n",
       "      <td>...</td>\n",
       "      <td>...</td>\n",
       "      <td>...</td>\n",
       "      <td>...</td>\n",
       "    </tr>\n",
       "    <tr>\n",
       "      <th>151</th>\n",
       "      <td>2022-23</td>\n",
       "      <td>OTHERS</td>\n",
       "      <td>0.08</td>\n",
       "      <td>Nov</td>\n",
       "      <td>5241</td>\n",
       "    </tr>\n",
       "    <tr>\n",
       "      <th>152</th>\n",
       "      <td>2022-23</td>\n",
       "      <td>OTHERS</td>\n",
       "      <td>0.08</td>\n",
       "      <td>Dec</td>\n",
       "      <td>5233</td>\n",
       "    </tr>\n",
       "    <tr>\n",
       "      <th>153</th>\n",
       "      <td>2022-23</td>\n",
       "      <td>OTHERS</td>\n",
       "      <td>0.08</td>\n",
       "      <td>Jan</td>\n",
       "      <td>5111</td>\n",
       "    </tr>\n",
       "    <tr>\n",
       "      <th>154</th>\n",
       "      <td>2022-23</td>\n",
       "      <td>OTHERS</td>\n",
       "      <td>0.08</td>\n",
       "      <td>Feb</td>\n",
       "      <td>5083</td>\n",
       "    </tr>\n",
       "    <tr>\n",
       "      <th>155</th>\n",
       "      <td>2022-23</td>\n",
       "      <td>OTHERS</td>\n",
       "      <td>0.08</td>\n",
       "      <td>March</td>\n",
       "      <td>7562</td>\n",
       "    </tr>\n",
       "  </tbody>\n",
       "</table>\n",
       "<p>504 rows × 5 columns</p>\n",
       "</div>"
      ],
      "text/plain": [
       "    financial_year          maker  market_share  month  num_vehicles\n",
       "0          2019-20  HERO ELECTRIC          0.30    Apr          1776\n",
       "1          2019-20  HERO ELECTRIC          0.30    May           455\n",
       "2          2019-20  HERO ELECTRIC          0.30    Jun           329\n",
       "3          2019-20  HERO ELECTRIC          0.30    Jul           260\n",
       "4          2019-20  HERO ELECTRIC          0.30    Aug           249\n",
       "..             ...            ...           ...    ...           ...\n",
       "151        2022-23         OTHERS          0.08    Nov          5241\n",
       "152        2022-23         OTHERS          0.08    Dec          5233\n",
       "153        2022-23         OTHERS          0.08    Jan          5111\n",
       "154        2022-23         OTHERS          0.08    Feb          5083\n",
       "155        2022-23         OTHERS          0.08  March          7562\n",
       "\n",
       "[504 rows x 5 columns]"
      ]
     },
     "execution_count": 12,
     "metadata": {},
     "output_type": "execute_result"
    }
   ],
   "source": [
    "data_ev2w"
   ]
  },
  {
   "cell_type": "code",
   "execution_count": 13,
   "id": "ecee59a0",
   "metadata": {},
   "outputs": [],
   "source": [
    "data_ev2w_year = data_ev2w.groupby(['financial_year', 'maker']).agg({'num_vehicles':'sum'}).reset_index()"
   ]
  },
  {
   "cell_type": "code",
   "execution_count": 14,
   "id": "478e3492",
   "metadata": {},
   "outputs": [
    {
     "data": {
      "image/png": "[encoded data removed]",
      "text/plain": [
       "<Figure size 432x576 with 1 Axes>"
      ]
     },
     "metadata": {
      "needs_background": "light"
     },
     "output_type": "display_data"
    }
   ],
   "source": [
    "fig, ax = plt.subplots(figsize=(6,8))\n",
    "ax = sns.lineplot(data=data_ev2w_year, x='financial_year', y='num_vehicles', hue='maker', marker='o', palette='tab10')\n",
    "plt.xlabel(\"Financial Year\", fontsize = 15)\n",
    "plt.ylabel(\"Vehicles\", fontsize = 15)\n",
    "plt.xticks(fontsize = 12)\n",
    "plt.yticks(fontsize = 12)\n",
    "plt.legend(title='Maker')\n",
    "\n",
    "# Annotate the last data point\n",
    "for col in data_ev2w_year['maker'].unique()[::1]:\n",
    "    last_point = data_ev2w_year[data_ev2w_year['maker'] == col].iloc[-1]\n",
    "    plt.annotate(f\"{last_point['maker']}\", \n",
    "                 (last_point['financial_year'], last_point['num_vehicles']),\n",
    "                 textcoords=\"offset points\",\n",
    "                 xytext=(10, -5), \n",
    "                 ha='left')\n",
    "ax.spines[['right', 'top']].set_visible(False)\n",
    "ax.get_legend().set_visible(False)\n",
    "plt.savefig('ev_2w.png', format = 'png')\n",
    "plt.show()"
   ]
  },
  {
   "cell_type": "markdown",
   "id": "5d505e98",
   "metadata": {},
   "source": [
    "Above Figure honed in on specific electric two-wheeler companies, with Ola Electric emerging as the market leader in 2023, illustrating industry leadership and market competitiveness."
   ]
  },
  {
   "cell_type": "code",
   "execution_count": 15,
   "id": "2ef6388a",
   "metadata": {},
   "outputs": [],
   "source": [
    "data_bw = pd.read_csv(\"ev2_bikewale.csv\")\n",
    "data_model = pd.read_csv(\"ev_model_spec.csv\")"
   ]
  },
  {
   "cell_type": "code",
   "execution_count": 16,
   "id": "9d8ad629",
   "metadata": {},
   "outputs": [],
   "source": [
    "data = data_bw.merge(data_model, how = 'left', on = 'Model Name')"
   ]
  },
  {
   "cell_type": "code",
   "execution_count": 17,
   "id": "f7bb909c",
   "metadata": {},
   "outputs": [
    {
     "data": {
      "text/html": [
       "<div>\n",
       "<style scoped>\n",
       "    .dataframe tbody tr th:only-of-type {\n",
       "        vertical-align: middle;\n",
       "    }\n",
       "\n",
       "    .dataframe tbody tr th {\n",
       "        vertical-align: top;\n",
       "    }\n",
       "\n",
       "    .dataframe thead th {\n",
       "        text-align: right;\n",
       "    }\n",
       "</style>\n",
       "<table border=\"1\" class=\"dataframe\">\n",
       "  <thead>\n",
       "    <tr style=\"text-align: right;\">\n",
       "      <th></th>\n",
       "      <th>review</th>\n",
       "      <th>Used it for</th>\n",
       "      <th>Owned for</th>\n",
       "      <th>Ridden for</th>\n",
       "      <th>rating</th>\n",
       "      <th>Visual Appeal</th>\n",
       "      <th>Reliability</th>\n",
       "      <th>Performance</th>\n",
       "      <th>Service Experience</th>\n",
       "      <th>Extra Features</th>\n",
       "      <th>Comfort</th>\n",
       "      <th>Maintenance cost</th>\n",
       "      <th>Value for Money</th>\n",
       "      <th>Model Name</th>\n",
       "      <th>Price</th>\n",
       "      <th>Riding Range (km)</th>\n",
       "      <th>Top Speed (kmph)</th>\n",
       "      <th>Weight (kg)</th>\n",
       "      <th>Battery Charging Time (hrs)</th>\n",
       "      <th>Rated Power (W)</th>\n",
       "    </tr>\n",
       "  </thead>\n",
       "  <tbody>\n",
       "    <tr>\n",
       "      <th>0</th>\n",
       "      <td>We all checked the bike's capacity to be 150 k...</td>\n",
       "      <td>Daily Commute</td>\n",
       "      <td>Never owned</td>\n",
       "      <td>NaN</td>\n",
       "      <td>1</td>\n",
       "      <td>3.0</td>\n",
       "      <td>4.0</td>\n",
       "      <td>NaN</td>\n",
       "      <td>NaN</td>\n",
       "      <td>NaN</td>\n",
       "      <td>4.0</td>\n",
       "      <td>NaN</td>\n",
       "      <td>1.0</td>\n",
       "      <td>TVS iQube</td>\n",
       "      <td>137890</td>\n",
       "      <td>100</td>\n",
       "      <td>78</td>\n",
       "      <td>117</td>\n",
       "      <td>5</td>\n",
       "      <td>3000</td>\n",
       "    </tr>\n",
       "    <tr>\n",
       "      <th>1</th>\n",
       "      <td>Performance is very poor on this bike. The cha...</td>\n",
       "      <td>Everything</td>\n",
       "      <td>&gt; 1 yr</td>\n",
       "      <td>&lt; 5000 kms</td>\n",
       "      <td>1</td>\n",
       "      <td>3.0</td>\n",
       "      <td>1.0</td>\n",
       "      <td>NaN</td>\n",
       "      <td>1.0</td>\n",
       "      <td>NaN</td>\n",
       "      <td>3.0</td>\n",
       "      <td>NaN</td>\n",
       "      <td>3.0</td>\n",
       "      <td>TVS iQube</td>\n",
       "      <td>137890</td>\n",
       "      <td>100</td>\n",
       "      <td>78</td>\n",
       "      <td>117</td>\n",
       "      <td>5</td>\n",
       "      <td>3000</td>\n",
       "    </tr>\n",
       "    <tr>\n",
       "      <th>2</th>\n",
       "      <td>I purchased this in April 2022 and the sales s...</td>\n",
       "      <td>Daily Commute</td>\n",
       "      <td>&lt; 3 months</td>\n",
       "      <td>&lt; 5000 kms</td>\n",
       "      <td>3</td>\n",
       "      <td>4.0</td>\n",
       "      <td>4.0</td>\n",
       "      <td>NaN</td>\n",
       "      <td>2.0</td>\n",
       "      <td>NaN</td>\n",
       "      <td>5.0</td>\n",
       "      <td>NaN</td>\n",
       "      <td>2.0</td>\n",
       "      <td>TVS iQube</td>\n",
       "      <td>137890</td>\n",
       "      <td>100</td>\n",
       "      <td>78</td>\n",
       "      <td>117</td>\n",
       "      <td>5</td>\n",
       "      <td>3000</td>\n",
       "    </tr>\n",
       "    <tr>\n",
       "      <th>3</th>\n",
       "      <td>If any issues come in scooty parts not availab...</td>\n",
       "      <td>Daily Commute</td>\n",
       "      <td>6 months-1 yr</td>\n",
       "      <td>5000-10000 kms</td>\n",
       "      <td>1</td>\n",
       "      <td>1.0</td>\n",
       "      <td>1.0</td>\n",
       "      <td>NaN</td>\n",
       "      <td>1.0</td>\n",
       "      <td>NaN</td>\n",
       "      <td>1.0</td>\n",
       "      <td>NaN</td>\n",
       "      <td>1.0</td>\n",
       "      <td>TVS iQube</td>\n",
       "      <td>137890</td>\n",
       "      <td>100</td>\n",
       "      <td>78</td>\n",
       "      <td>117</td>\n",
       "      <td>5</td>\n",
       "      <td>3000</td>\n",
       "    </tr>\n",
       "    <tr>\n",
       "      <th>4</th>\n",
       "      <td>Don't buy this vehicle unless you have a near ...</td>\n",
       "      <td>Daily Commute</td>\n",
       "      <td>6 months-1 yr</td>\n",
       "      <td>&lt; 5000 kms</td>\n",
       "      <td>1</td>\n",
       "      <td>3.0</td>\n",
       "      <td>4.0</td>\n",
       "      <td>NaN</td>\n",
       "      <td>1.0</td>\n",
       "      <td>NaN</td>\n",
       "      <td>3.0</td>\n",
       "      <td>NaN</td>\n",
       "      <td>2.0</td>\n",
       "      <td>TVS iQube</td>\n",
       "      <td>137890</td>\n",
       "      <td>100</td>\n",
       "      <td>78</td>\n",
       "      <td>117</td>\n",
       "      <td>5</td>\n",
       "      <td>3000</td>\n",
       "    </tr>\n",
       "  </tbody>\n",
       "</table>\n",
       "</div>"
      ],
      "text/plain": [
       "                                              review    Used it for  \\\n",
       "0  We all checked the bike's capacity to be 150 k...  Daily Commute   \n",
       "1  Performance is very poor on this bike. The cha...     Everything   \n",
       "2  I purchased this in April 2022 and the sales s...  Daily Commute   \n",
       "3  If any issues come in scooty parts not availab...  Daily Commute   \n",
       "4  Don't buy this vehicle unless you have a near ...  Daily Commute   \n",
       "\n",
       "       Owned for      Ridden for  rating  Visual Appeal  Reliability  \\\n",
       "0    Never owned             NaN       1            3.0          4.0   \n",
       "1         > 1 yr      < 5000 kms       1            3.0          1.0   \n",
       "2     < 3 months      < 5000 kms       3            4.0          4.0   \n",
       "3  6 months-1 yr  5000-10000 kms       1            1.0          1.0   \n",
       "4  6 months-1 yr      < 5000 kms       1            3.0          4.0   \n",
       "\n",
       "   Performance  Service Experience  Extra Features  Comfort  Maintenance cost  \\\n",
       "0          NaN                 NaN             NaN      4.0               NaN   \n",
       "1          NaN                 1.0             NaN      3.0               NaN   \n",
       "2          NaN                 2.0             NaN      5.0               NaN   \n",
       "3          NaN                 1.0             NaN      1.0               NaN   \n",
       "4          NaN                 1.0             NaN      3.0               NaN   \n",
       "\n",
       "   Value for Money Model Name   Price  Riding Range (km)  Top Speed (kmph)  \\\n",
       "0              1.0  TVS iQube  137890                100                78   \n",
       "1              3.0  TVS iQube  137890                100                78   \n",
       "2              2.0  TVS iQube  137890                100                78   \n",
       "3              1.0  TVS iQube  137890                100                78   \n",
       "4              2.0  TVS iQube  137890                100                78   \n",
       "\n",
       "   Weight (kg)  Battery Charging Time (hrs)  Rated Power (W)  \n",
       "0          117                            5             3000  \n",
       "1          117                            5             3000  \n",
       "2          117                            5             3000  \n",
       "3          117                            5             3000  \n",
       "4          117                            5             3000  "
      ]
     },
     "execution_count": 17,
     "metadata": {},
     "output_type": "execute_result"
    }
   ],
   "source": [
    "data.head()"
   ]
  },
  {
   "cell_type": "code",
   "execution_count": 18,
   "id": "b084a279",
   "metadata": {},
   "outputs": [
    {
     "data": {
      "text/plain": [
       "<Axes: >"
      ]
     },
     "execution_count": 18,
     "metadata": {},
     "output_type": "execute_result"
    },
    {
     "data": {
      "image/png": "[encoded data removed]",
      "text/plain": [
       "<Figure size 1800x720 with 2 Axes>"
      ]
     },
     "metadata": {
      "needs_background": "light"
     },
     "output_type": "display_data"
    }
   ],
   "source": [
    "msno.matrix(data)"
   ]
  },
  {
   "cell_type": "code",
   "execution_count": 19,
   "id": "c27ca225",
   "metadata": {},
   "outputs": [
    {
     "data": {
      "text/plain": [
       "Maintenance cost               78.672986\n",
       "Extra Features                 78.080569\n",
       "Performance                    59.123223\n",
       "Value for Money                53.791469\n",
       "Comfort                        37.203791\n",
       "Ridden for                     20.853081\n",
       "Service Experience             16.706161\n",
       "Reliability                    15.165877\n",
       "Visual Appeal                  12.440758\n",
       "review                          5.568720\n",
       "Used it for                     0.000000\n",
       "rating                          0.000000\n",
       "Owned for                       0.000000\n",
       "Model Name                      0.000000\n",
       "Price                           0.000000\n",
       "Riding Range (km)               0.000000\n",
       "Top Speed (kmph)                0.000000\n",
       "Weight (kg)                     0.000000\n",
       "Battery Charging Time (hrs)     0.000000\n",
       "Rated Power (W)                 0.000000\n",
       "dtype: float64"
      ]
     },
     "execution_count": 19,
     "metadata": {},
     "output_type": "execute_result"
    }
   ],
   "source": [
    "((data.isnull().sum() * 100/data.shape[0])).sort_values(ascending = False)"
   ]
  },
  {
   "cell_type": "code",
   "execution_count": 20,
   "id": "dc480cd8",
   "metadata": {},
   "outputs": [
    {
     "name": "stdout",
     "output_type": "stream",
     "text": [
      "<class 'pandas.core.frame.DataFrame'>\n",
      "Int64Index: 844 entries, 0 to 843\n",
      "Data columns (total 20 columns):\n",
      " #   Column                       Non-Null Count  Dtype  \n",
      "---  ------                       --------------  -----  \n",
      " 0   review                       797 non-null    object \n",
      " 1   Used it for                  844 non-null    object \n",
      " 2   Owned for                    844 non-null    object \n",
      " 3   Ridden for                   668 non-null    object \n",
      " 4   rating                       844 non-null    int64  \n",
      " 5   Visual Appeal                739 non-null    float64\n",
      " 6   Reliability                  716 non-null    float64\n",
      " 7   Performance                  345 non-null    float64\n",
      " 8   Service Experience           703 non-null    float64\n",
      " 9   Extra Features               185 non-null    float64\n",
      " 10  Comfort                      530 non-null    float64\n",
      " 11  Maintenance cost             180 non-null    float64\n",
      " 12  Value for Money              390 non-null    float64\n",
      " 13  Model Name                   844 non-null    object \n",
      " 14  Price                        844 non-null    int64  \n",
      " 15  Riding Range (km)            844 non-null    int64  \n",
      " 16  Top Speed (kmph)             844 non-null    int64  \n",
      " 17  Weight (kg)                  844 non-null    int64  \n",
      " 18  Battery Charging Time (hrs)  844 non-null    int64  \n",
      " 19  Rated Power (W)              844 non-null    int64  \n",
      "dtypes: float64(8), int64(7), object(5)\n",
      "memory usage: 138.5+ KB\n"
     ]
    }
   ],
   "source": [
    "data.info()"
   ]
  },
  {
   "cell_type": "code",
   "execution_count": 21,
   "id": "f5534cb2",
   "metadata": {},
   "outputs": [],
   "source": [
    "sentiments = SentimentIntensityAnalyzer()\n",
    "sentiments_list = []\n",
    "\n",
    "for review_text in data['review']:\n",
    "    if pd.isna(review_text):\n",
    "        sentiments_list.append('neutral')\n",
    "        continue\n",
    "    sentiment_scores = sentiments.polarity_scores(review_text)\n",
    "\n",
    "    positive_score = sentiment_scores['pos']\n",
    "    negative_score = sentiment_scores['neg']\n",
    "\n",
    "    if positive_score > negative_score:\n",
    "        sentiment_label = 'positive'\n",
    "    elif positive_score < negative_score:\n",
    "        sentiment_label = 'negative'\n",
    "    else:\n",
    "        sentiment_label = 'neutral'\n",
    "\n",
    "    sentiments_list.append(sentiment_label)\n",
    "    \n",
    "data['sentiment'] = sentiments_list"
   ]
  },
  {
   "cell_type": "code",
   "execution_count": 22,
   "id": "88474c58",
   "metadata": {},
   "outputs": [
    {
     "data": {
      "text/plain": [
       "positive    527\n",
       "negative    264\n",
       "neutral      53\n",
       "Name: sentiment, dtype: int64"
      ]
     },
     "execution_count": 22,
     "metadata": {},
     "output_type": "execute_result"
    }
   ],
   "source": [
    "data['sentiment'].value_counts()"
   ]
  },
  {
   "cell_type": "code",
   "execution_count": 23,
   "id": "3b152ad6",
   "metadata": {},
   "outputs": [],
   "source": [
    "data_segment = data[['Used it for', 'Owned for', 'Ridden for', 'rating',\n",
    "       'Visual Appeal', 'Reliability', 'Performance', 'Service Experience',\n",
    "       'Extra Features', 'Comfort', 'Maintenance cost', 'Value for Money',\n",
    "       'sentiment']].copy()"
   ]
  },
  {
   "cell_type": "code",
   "execution_count": 24,
   "id": "f1865efe",
   "metadata": {},
   "outputs": [
    {
     "data": {
      "text/html": [
       "<div>\n",
       "<style scoped>\n",
       "    .dataframe tbody tr th:only-of-type {\n",
       "        vertical-align: middle;\n",
       "    }\n",
       "\n",
       "    .dataframe tbody tr th {\n",
       "        vertical-align: top;\n",
       "    }\n",
       "\n",
       "    .dataframe thead th {\n",
       "        text-align: right;\n",
       "    }\n",
       "</style>\n",
       "<table border=\"1\" class=\"dataframe\">\n",
       "  <thead>\n",
       "    <tr style=\"text-align: right;\">\n",
       "      <th></th>\n",
       "      <th>Used it for</th>\n",
       "      <th>Owned for</th>\n",
       "      <th>Ridden for</th>\n",
       "      <th>rating</th>\n",
       "      <th>Visual Appeal</th>\n",
       "      <th>Reliability</th>\n",
       "      <th>Performance</th>\n",
       "      <th>Service Experience</th>\n",
       "      <th>Extra Features</th>\n",
       "      <th>Comfort</th>\n",
       "      <th>Maintenance cost</th>\n",
       "      <th>Value for Money</th>\n",
       "      <th>sentiment</th>\n",
       "    </tr>\n",
       "  </thead>\n",
       "  <tbody>\n",
       "    <tr>\n",
       "      <th>0</th>\n",
       "      <td>Daily Commute</td>\n",
       "      <td>Never owned</td>\n",
       "      <td>NaN</td>\n",
       "      <td>1</td>\n",
       "      <td>3.0</td>\n",
       "      <td>4.0</td>\n",
       "      <td>NaN</td>\n",
       "      <td>NaN</td>\n",
       "      <td>NaN</td>\n",
       "      <td>4.0</td>\n",
       "      <td>NaN</td>\n",
       "      <td>1.0</td>\n",
       "      <td>negative</td>\n",
       "    </tr>\n",
       "    <tr>\n",
       "      <th>1</th>\n",
       "      <td>Everything</td>\n",
       "      <td>&gt; 1 yr</td>\n",
       "      <td>&lt; 5000 kms</td>\n",
       "      <td>1</td>\n",
       "      <td>3.0</td>\n",
       "      <td>1.0</td>\n",
       "      <td>NaN</td>\n",
       "      <td>1.0</td>\n",
       "      <td>NaN</td>\n",
       "      <td>3.0</td>\n",
       "      <td>NaN</td>\n",
       "      <td>3.0</td>\n",
       "      <td>negative</td>\n",
       "    </tr>\n",
       "    <tr>\n",
       "      <th>2</th>\n",
       "      <td>Daily Commute</td>\n",
       "      <td>&lt; 3 months</td>\n",
       "      <td>&lt; 5000 kms</td>\n",
       "      <td>3</td>\n",
       "      <td>4.0</td>\n",
       "      <td>4.0</td>\n",
       "      <td>NaN</td>\n",
       "      <td>2.0</td>\n",
       "      <td>NaN</td>\n",
       "      <td>5.0</td>\n",
       "      <td>NaN</td>\n",
       "      <td>2.0</td>\n",
       "      <td>positive</td>\n",
       "    </tr>\n",
       "    <tr>\n",
       "      <th>3</th>\n",
       "      <td>Daily Commute</td>\n",
       "      <td>6 months-1 yr</td>\n",
       "      <td>5000-10000 kms</td>\n",
       "      <td>1</td>\n",
       "      <td>1.0</td>\n",
       "      <td>1.0</td>\n",
       "      <td>NaN</td>\n",
       "      <td>1.0</td>\n",
       "      <td>NaN</td>\n",
       "      <td>1.0</td>\n",
       "      <td>NaN</td>\n",
       "      <td>1.0</td>\n",
       "      <td>negative</td>\n",
       "    </tr>\n",
       "    <tr>\n",
       "      <th>4</th>\n",
       "      <td>Daily Commute</td>\n",
       "      <td>6 months-1 yr</td>\n",
       "      <td>&lt; 5000 kms</td>\n",
       "      <td>1</td>\n",
       "      <td>3.0</td>\n",
       "      <td>4.0</td>\n",
       "      <td>NaN</td>\n",
       "      <td>1.0</td>\n",
       "      <td>NaN</td>\n",
       "      <td>3.0</td>\n",
       "      <td>NaN</td>\n",
       "      <td>2.0</td>\n",
       "      <td>negative</td>\n",
       "    </tr>\n",
       "  </tbody>\n",
       "</table>\n",
       "</div>"
      ],
      "text/plain": [
       "     Used it for      Owned for      Ridden for  rating  Visual Appeal  \\\n",
       "0  Daily Commute    Never owned             NaN       1            3.0   \n",
       "1     Everything         > 1 yr      < 5000 kms       1            3.0   \n",
       "2  Daily Commute     < 3 months      < 5000 kms       3            4.0   \n",
       "3  Daily Commute  6 months-1 yr  5000-10000 kms       1            1.0   \n",
       "4  Daily Commute  6 months-1 yr      < 5000 kms       1            3.0   \n",
       "\n",
       "   Reliability  Performance  Service Experience  Extra Features  Comfort  \\\n",
       "0          4.0          NaN                 NaN             NaN      4.0   \n",
       "1          1.0          NaN                 1.0             NaN      3.0   \n",
       "2          4.0          NaN                 2.0             NaN      5.0   \n",
       "3          1.0          NaN                 1.0             NaN      1.0   \n",
       "4          4.0          NaN                 1.0             NaN      3.0   \n",
       "\n",
       "   Maintenance cost  Value for Money sentiment  \n",
       "0               NaN              1.0  negative  \n",
       "1               NaN              3.0  negative  \n",
       "2               NaN              2.0  positive  \n",
       "3               NaN              1.0  negative  \n",
       "4               NaN              2.0  negative  "
      ]
     },
     "execution_count": 24,
     "metadata": {},
     "output_type": "execute_result"
    }
   ],
   "source": [
    "data_segment.head()"
   ]
  },
  {
   "cell_type": "code",
   "execution_count": 25,
   "id": "9bb8de7d",
   "metadata": {},
   "outputs": [
    {
     "data": {
      "text/html": [
       "<div>\n",
       "<style scoped>\n",
       "    .dataframe tbody tr th:only-of-type {\n",
       "        vertical-align: middle;\n",
       "    }\n",
       "\n",
       "    .dataframe tbody tr th {\n",
       "        vertical-align: top;\n",
       "    }\n",
       "\n",
       "    .dataframe thead th {\n",
       "        text-align: right;\n",
       "    }\n",
       "</style>\n",
       "<table border=\"1\" class=\"dataframe\">\n",
       "  <thead>\n",
       "    <tr style=\"text-align: right;\">\n",
       "      <th></th>\n",
       "      <th>review</th>\n",
       "      <th>Used it for</th>\n",
       "      <th>Owned for</th>\n",
       "      <th>Ridden for</th>\n",
       "      <th>rating</th>\n",
       "      <th>Visual Appeal</th>\n",
       "      <th>Reliability</th>\n",
       "      <th>Performance</th>\n",
       "      <th>Service Experience</th>\n",
       "      <th>Extra Features</th>\n",
       "      <th>Comfort</th>\n",
       "      <th>Maintenance cost</th>\n",
       "      <th>Value for Money</th>\n",
       "      <th>Model Name</th>\n",
       "      <th>Price</th>\n",
       "      <th>Riding Range (km)</th>\n",
       "      <th>Top Speed (kmph)</th>\n",
       "      <th>Weight (kg)</th>\n",
       "      <th>Battery Charging Time (hrs)</th>\n",
       "      <th>Rated Power (W)</th>\n",
       "      <th>sentiment</th>\n",
       "    </tr>\n",
       "  </thead>\n",
       "  <tbody>\n",
       "    <tr>\n",
       "      <th>0</th>\n",
       "      <td>We all checked the bike's capacity to be 150 k...</td>\n",
       "      <td>Daily Commute</td>\n",
       "      <td>Never owned</td>\n",
       "      <td>NaN</td>\n",
       "      <td>1</td>\n",
       "      <td>3.0</td>\n",
       "      <td>4.0</td>\n",
       "      <td>NaN</td>\n",
       "      <td>NaN</td>\n",
       "      <td>NaN</td>\n",
       "      <td>4.0</td>\n",
       "      <td>NaN</td>\n",
       "      <td>1.0</td>\n",
       "      <td>TVS iQube</td>\n",
       "      <td>137890</td>\n",
       "      <td>100</td>\n",
       "      <td>78</td>\n",
       "      <td>117</td>\n",
       "      <td>5</td>\n",
       "      <td>3000</td>\n",
       "      <td>negative</td>\n",
       "    </tr>\n",
       "    <tr>\n",
       "      <th>1</th>\n",
       "      <td>Performance is very poor on this bike. The cha...</td>\n",
       "      <td>Everything</td>\n",
       "      <td>&gt; 1 yr</td>\n",
       "      <td>&lt; 5000 kms</td>\n",
       "      <td>1</td>\n",
       "      <td>3.0</td>\n",
       "      <td>1.0</td>\n",
       "      <td>NaN</td>\n",
       "      <td>1.0</td>\n",
       "      <td>NaN</td>\n",
       "      <td>3.0</td>\n",
       "      <td>NaN</td>\n",
       "      <td>3.0</td>\n",
       "      <td>TVS iQube</td>\n",
       "      <td>137890</td>\n",
       "      <td>100</td>\n",
       "      <td>78</td>\n",
       "      <td>117</td>\n",
       "      <td>5</td>\n",
       "      <td>3000</td>\n",
       "      <td>negative</td>\n",
       "    </tr>\n",
       "    <tr>\n",
       "      <th>2</th>\n",
       "      <td>I purchased this in April 2022 and the sales s...</td>\n",
       "      <td>Daily Commute</td>\n",
       "      <td>&lt; 3 months</td>\n",
       "      <td>&lt; 5000 kms</td>\n",
       "      <td>3</td>\n",
       "      <td>4.0</td>\n",
       "      <td>4.0</td>\n",
       "      <td>NaN</td>\n",
       "      <td>2.0</td>\n",
       "      <td>NaN</td>\n",
       "      <td>5.0</td>\n",
       "      <td>NaN</td>\n",
       "      <td>2.0</td>\n",
       "      <td>TVS iQube</td>\n",
       "      <td>137890</td>\n",
       "      <td>100</td>\n",
       "      <td>78</td>\n",
       "      <td>117</td>\n",
       "      <td>5</td>\n",
       "      <td>3000</td>\n",
       "      <td>positive</td>\n",
       "    </tr>\n",
       "    <tr>\n",
       "      <th>3</th>\n",
       "      <td>If any issues come in scooty parts not availab...</td>\n",
       "      <td>Daily Commute</td>\n",
       "      <td>6 months-1 yr</td>\n",
       "      <td>5000-10000 kms</td>\n",
       "      <td>1</td>\n",
       "      <td>1.0</td>\n",
       "      <td>1.0</td>\n",
       "      <td>NaN</td>\n",
       "      <td>1.0</td>\n",
       "      <td>NaN</td>\n",
       "      <td>1.0</td>\n",
       "      <td>NaN</td>\n",
       "      <td>1.0</td>\n",
       "      <td>TVS iQube</td>\n",
       "      <td>137890</td>\n",
       "      <td>100</td>\n",
       "      <td>78</td>\n",
       "      <td>117</td>\n",
       "      <td>5</td>\n",
       "      <td>3000</td>\n",
       "      <td>negative</td>\n",
       "    </tr>\n",
       "    <tr>\n",
       "      <th>4</th>\n",
       "      <td>Don't buy this vehicle unless you have a near ...</td>\n",
       "      <td>Daily Commute</td>\n",
       "      <td>6 months-1 yr</td>\n",
       "      <td>&lt; 5000 kms</td>\n",
       "      <td>1</td>\n",
       "      <td>3.0</td>\n",
       "      <td>4.0</td>\n",
       "      <td>NaN</td>\n",
       "      <td>1.0</td>\n",
       "      <td>NaN</td>\n",
       "      <td>3.0</td>\n",
       "      <td>NaN</td>\n",
       "      <td>2.0</td>\n",
       "      <td>TVS iQube</td>\n",
       "      <td>137890</td>\n",
       "      <td>100</td>\n",
       "      <td>78</td>\n",
       "      <td>117</td>\n",
       "      <td>5</td>\n",
       "      <td>3000</td>\n",
       "      <td>negative</td>\n",
       "    </tr>\n",
       "  </tbody>\n",
       "</table>\n",
       "</div>"
      ],
      "text/plain": [
       "                                              review    Used it for  \\\n",
       "0  We all checked the bike's capacity to be 150 k...  Daily Commute   \n",
       "1  Performance is very poor on this bike. The cha...     Everything   \n",
       "2  I purchased this in April 2022 and the sales s...  Daily Commute   \n",
       "3  If any issues come in scooty parts not availab...  Daily Commute   \n",
       "4  Don't buy this vehicle unless you have a near ...  Daily Commute   \n",
       "\n",
       "       Owned for      Ridden for  rating  Visual Appeal  Reliability  \\\n",
       "0    Never owned             NaN       1            3.0          4.0   \n",
       "1         > 1 yr      < 5000 kms       1            3.0          1.0   \n",
       "2     < 3 months      < 5000 kms       3            4.0          4.0   \n",
       "3  6 months-1 yr  5000-10000 kms       1            1.0          1.0   \n",
       "4  6 months-1 yr      < 5000 kms       1            3.0          4.0   \n",
       "\n",
       "   Performance  Service Experience  Extra Features  Comfort  Maintenance cost  \\\n",
       "0          NaN                 NaN             NaN      4.0               NaN   \n",
       "1          NaN                 1.0             NaN      3.0               NaN   \n",
       "2          NaN                 2.0             NaN      5.0               NaN   \n",
       "3          NaN                 1.0             NaN      1.0               NaN   \n",
       "4          NaN                 1.0             NaN      3.0               NaN   \n",
       "\n",
       "   Value for Money Model Name   Price  Riding Range (km)  Top Speed (kmph)  \\\n",
       "0              1.0  TVS iQube  137890                100                78   \n",
       "1              3.0  TVS iQube  137890                100                78   \n",
       "2              2.0  TVS iQube  137890                100                78   \n",
       "3              1.0  TVS iQube  137890                100                78   \n",
       "4              2.0  TVS iQube  137890                100                78   \n",
       "\n",
       "   Weight (kg)  Battery Charging Time (hrs)  Rated Power (W) sentiment  \n",
       "0          117                            5             3000  negative  \n",
       "1          117                            5             3000  negative  \n",
       "2          117                            5             3000  positive  \n",
       "3          117                            5             3000  negative  \n",
       "4          117                            5             3000  negative  "
      ]
     },
     "execution_count": 25,
     "metadata": {},
     "output_type": "execute_result"
    }
   ],
   "source": [
    "data.head()"
   ]
  },
  {
   "cell_type": "code",
   "execution_count": 26,
   "id": "287f02cb",
   "metadata": {},
   "outputs": [],
   "source": [
    "data_segment = data.iloc[:, 5:13].copy()"
   ]
  },
  {
   "cell_type": "code",
   "execution_count": 27,
   "id": "133a461f",
   "metadata": {},
   "outputs": [],
   "source": [
    "data_segment = data_segment.fillna(0.)"
   ]
  },
  {
   "cell_type": "code",
   "execution_count": 28,
   "id": "dbe3bc72",
   "metadata": {},
   "outputs": [
    {
     "name": "stdout",
     "output_type": "stream",
     "text": [
      "<class 'pandas.core.frame.DataFrame'>\n",
      "Int64Index: 844 entries, 0 to 843\n",
      "Data columns (total 8 columns):\n",
      " #   Column              Non-Null Count  Dtype  \n",
      "---  ------              --------------  -----  \n",
      " 0   Visual Appeal       844 non-null    float64\n",
      " 1   Reliability         844 non-null    float64\n",
      " 2   Performance         844 non-null    float64\n",
      " 3   Service Experience  844 non-null    float64\n",
      " 4   Extra Features      844 non-null    float64\n",
      " 5   Comfort             844 non-null    float64\n",
      " 6   Maintenance cost    844 non-null    float64\n",
      " 7   Value for Money     844 non-null    float64\n",
      "dtypes: float64(8)\n",
      "memory usage: 59.3 KB\n"
     ]
    }
   ],
   "source": [
    "data_segment.info()"
   ]
  },
  {
   "cell_type": "code",
   "execution_count": 29,
   "id": "3bffa6a8",
   "metadata": {},
   "outputs": [
    {
     "data": {
      "text/plain": [
       "Visual Appeal         3.309242\n",
       "Reliability           2.811611\n",
       "Performance           1.441943\n",
       "Service Experience    2.619668\n",
       "Extra Features        0.643365\n",
       "Comfort               2.300948\n",
       "Maintenance cost      0.723934\n",
       "Value for Money       1.562796\n",
       "dtype: float64"
      ]
     },
     "execution_count": 29,
     "metadata": {},
     "output_type": "execute_result"
    }
   ],
   "source": [
    "data_segment.mean()"
   ]
  },
  {
   "cell_type": "code",
   "execution_count": 30,
   "id": "12c28574",
   "metadata": {},
   "outputs": [],
   "source": [
    "scaler = StandardScaler()\n",
    "data_scaled = scaler.fit_transform(data_segment)"
   ]
  },
  {
   "cell_type": "code",
   "execution_count": 31,
   "id": "4748bf15",
   "metadata": {},
   "outputs": [
    {
     "data": {
      "text/html": [
       "<style>#sk-container-id-1 {color: black;}#sk-container-id-1 pre{padding: 0;}#sk-container-id-1 div.sk-toggleable {background-color: white;}#sk-container-id-1 label.sk-toggleable__label {cursor: pointer;display: block;width: 100%;margin-bottom: 0;padding: 0.3em;box-sizing: border-box;text-align: center;}#sk-container-id-1 label.sk-toggleable__label-arrow:before {content: \"▸\";float: left;margin-right: 0.25em;color: #696969;}#sk-container-id-1 label.sk-toggleable__label-arrow:hover:before {color: black;}#sk-container-id-1 div.sk-estimator:hover label.sk-toggleable__label-arrow:before {color: black;}#sk-container-id-1 div.sk-toggleable__content {max-height: 0;max-width: 0;overflow: hidden;text-align: left;background-color: #f0f8ff;}#sk-container-id-1 div.sk-toggleable__content pre {margin: 0.2em;color: black;border-radius: 0.25em;background-color: #f0f8ff;}#sk-container-id-1 input.sk-toggleable__control:checked~div.sk-toggleable__content {max-height: 200px;max-width: 100%;overflow: auto;}#sk-container-id-1 input.sk-toggleable__control:checked~label.sk-toggleable__label-arrow:before {content: \"▾\";}#sk-container-id-1 div.sk-estimator input.sk-toggleable__control:checked~label.sk-toggleable__label {background-color: #d4ebff;}#sk-container-id-1 div.sk-label input.sk-toggleable__control:checked~label.sk-toggleable__label {background-color: #d4ebff;}#sk-container-id-1 input.sk-hidden--visually {border: 0;clip: rect(1px 1px 1px 1px);clip: rect(1px, 1px, 1px, 1px);height: 1px;margin: -1px;overflow: hidden;padding: 0;position: absolute;width: 1px;}#sk-container-id-1 div.sk-estimator {font-family: monospace;background-color: #f0f8ff;border: 1px dotted black;border-radius: 0.25em;box-sizing: border-box;margin-bottom: 0.5em;}#sk-container-id-1 div.sk-estimator:hover {background-color: #d4ebff;}#sk-container-id-1 div.sk-parallel-item::after {content: \"\";width: 100%;border-bottom: 1px solid gray;flex-grow: 1;}#sk-container-id-1 div.sk-label:hover label.sk-toggleable__label {background-color: #d4ebff;}#sk-container-id-1 div.sk-serial::before {content: \"\";position: absolute;border-left: 1px solid gray;box-sizing: border-box;top: 0;bottom: 0;left: 50%;z-index: 0;}#sk-container-id-1 div.sk-serial {display: flex;flex-direction: column;align-items: center;background-color: white;padding-right: 0.2em;padding-left: 0.2em;position: relative;}#sk-container-id-1 div.sk-item {position: relative;z-index: 1;}#sk-container-id-1 div.sk-parallel {display: flex;align-items: stretch;justify-content: center;background-color: white;position: relative;}#sk-container-id-1 div.sk-item::before, #sk-container-id-1 div.sk-parallel-item::before {content: \"\";position: absolute;border-left: 1px solid gray;box-sizing: border-box;top: 0;bottom: 0;left: 50%;z-index: -1;}#sk-container-id-1 div.sk-parallel-item {display: flex;flex-direction: column;z-index: 1;position: relative;background-color: white;}#sk-container-id-1 div.sk-parallel-item:first-child::after {align-self: flex-end;width: 50%;}#sk-container-id-1 div.sk-parallel-item:last-child::after {align-self: flex-start;width: 50%;}#sk-container-id-1 div.sk-parallel-item:only-child::after {width: 0;}#sk-container-id-1 div.sk-dashed-wrapped {border: 1px dashed gray;margin: 0 0.4em 0.5em 0.4em;box-sizing: border-box;padding-bottom: 0.4em;background-color: white;}#sk-container-id-1 div.sk-label label {font-family: monospace;font-weight: bold;display: inline-block;line-height: 1.2em;}#sk-container-id-1 div.sk-label-container {text-align: center;}#sk-container-id-1 div.sk-container {/* jupyter's `normalize.less` sets `[hidden] { display: none; }` but bootstrap.min.css set `[hidden] { display: none !important; }` so we also need the `!important` here to be able to override the default hidden behavior on the sphinx rendered scikit-learn.org. See: https://github.com/scikit-learn/scikit-learn/issues/21755 */display: inline-block !important;position: relative;}#sk-container-id-1 div.sk-text-repr-fallback {display: none;}</style><div id=\"sk-container-id-1\" class=\"sk-top-container\"><div class=\"sk-text-repr-fallback\"><pre>PCA(random_state=42)</pre><b>In a Jupyter environment, please rerun this cell to show the HTML representation or trust the notebook. <br />On GitHub, the HTML representation is unable to render, please try loading this page with nbviewer.org.</b></div><div class=\"sk-container\" hidden><div class=\"sk-item\"><div class=\"sk-estimator sk-toggleable\"><input class=\"sk-toggleable__control sk-hidden--visually\" id=\"sk-estimator-id-1\" type=\"checkbox\" checked><label for=\"sk-estimator-id-1\" class=\"sk-toggleable__label sk-toggleable__label-arrow\">PCA</label><div class=\"sk-toggleable__content\"><pre>PCA(random_state=42)</pre></div></div></div></div></div>"
      ],
      "text/plain": [
       "PCA(random_state=42)"
      ]
     },
     "execution_count": 31,
     "metadata": {},
     "output_type": "execute_result"
    }
   ],
   "source": [
    "pca = PCA(random_state = 42)\n",
    "pca.fit(data_scaled)"
   ]
  },
  {
   "cell_type": "code",
   "execution_count": 32,
   "id": "8f623aaa",
   "metadata": {},
   "outputs": [],
   "source": [
    "data_pca = pca.transform(data_scaled)"
   ]
  },
  {
   "cell_type": "code",
   "execution_count": 33,
   "id": "89f30a53",
   "metadata": {},
   "outputs": [],
   "source": [
    "df_pca = pd.DataFrame(data_pca, columns = [f'PC{x +1}' for x in range(len(data_segment.columns))])"
   ]
  },
  {
   "cell_type": "code",
   "execution_count": 34,
   "id": "e5f66c42",
   "metadata": {},
   "outputs": [
    {
     "data": {
      "text/html": [
       "<div>\n",
       "<style scoped>\n",
       "    .dataframe tbody tr th:only-of-type {\n",
       "        vertical-align: middle;\n",
       "    }\n",
       "\n",
       "    .dataframe tbody tr th {\n",
       "        vertical-align: top;\n",
       "    }\n",
       "\n",
       "    .dataframe thead th {\n",
       "        text-align: right;\n",
       "    }\n",
       "</style>\n",
       "<table border=\"1\" class=\"dataframe\">\n",
       "  <thead>\n",
       "    <tr style=\"text-align: right;\">\n",
       "      <th></th>\n",
       "      <th>PC1</th>\n",
       "      <th>PC2</th>\n",
       "      <th>PC3</th>\n",
       "      <th>PC4</th>\n",
       "      <th>PC5</th>\n",
       "      <th>PC6</th>\n",
       "      <th>PC7</th>\n",
       "      <th>PC8</th>\n",
       "    </tr>\n",
       "  </thead>\n",
       "  <tbody>\n",
       "    <tr>\n",
       "      <th>0</th>\n",
       "      <td>0.291227</td>\n",
       "      <td>-1.038055</td>\n",
       "      <td>0.354864</td>\n",
       "      <td>-0.623469</td>\n",
       "      <td>-1.102720</td>\n",
       "      <td>-0.169287</td>\n",
       "      <td>-0.438012</td>\n",
       "      <td>0.957827</td>\n",
       "    </tr>\n",
       "    <tr>\n",
       "      <th>1</th>\n",
       "      <td>0.710801</td>\n",
       "      <td>-1.394405</td>\n",
       "      <td>-0.360466</td>\n",
       "      <td>-0.621671</td>\n",
       "      <td>0.320899</td>\n",
       "      <td>-0.086053</td>\n",
       "      <td>-0.426279</td>\n",
       "      <td>-0.149917</td>\n",
       "    </tr>\n",
       "    <tr>\n",
       "      <th>2</th>\n",
       "      <td>-0.849149</td>\n",
       "      <td>-1.189765</td>\n",
       "      <td>0.167683</td>\n",
       "      <td>-0.410898</td>\n",
       "      <td>-0.409054</td>\n",
       "      <td>-0.191904</td>\n",
       "      <td>-0.329993</td>\n",
       "      <td>0.830738</td>\n",
       "    </tr>\n",
       "    <tr>\n",
       "      <th>3</th>\n",
       "      <td>1.967022</td>\n",
       "      <td>-0.878935</td>\n",
       "      <td>-0.100197</td>\n",
       "      <td>0.330003</td>\n",
       "      <td>-0.075822</td>\n",
       "      <td>0.069599</td>\n",
       "      <td>0.013068</td>\n",
       "      <td>0.011328</td>\n",
       "    </tr>\n",
       "    <tr>\n",
       "      <th>4</th>\n",
       "      <td>0.078940</td>\n",
       "      <td>-1.017161</td>\n",
       "      <td>-0.079210</td>\n",
       "      <td>-0.324132</td>\n",
       "      <td>-0.961554</td>\n",
       "      <td>0.005517</td>\n",
       "      <td>-0.107260</td>\n",
       "      <td>0.427972</td>\n",
       "    </tr>\n",
       "  </tbody>\n",
       "</table>\n",
       "</div>"
      ],
      "text/plain": [
       "        PC1       PC2       PC3       PC4       PC5       PC6       PC7  \\\n",
       "0  0.291227 -1.038055  0.354864 -0.623469 -1.102720 -0.169287 -0.438012   \n",
       "1  0.710801 -1.394405 -0.360466 -0.621671  0.320899 -0.086053 -0.426279   \n",
       "2 -0.849149 -1.189765  0.167683 -0.410898 -0.409054 -0.191904 -0.329993   \n",
       "3  1.967022 -0.878935 -0.100197  0.330003 -0.075822  0.069599  0.013068   \n",
       "4  0.078940 -1.017161 -0.079210 -0.324132 -0.961554  0.005517 -0.107260   \n",
       "\n",
       "        PC8  \n",
       "0  0.957827  \n",
       "1 -0.149917  \n",
       "2  0.830738  \n",
       "3  0.011328  \n",
       "4  0.427972  "
      ]
     },
     "execution_count": 34,
     "metadata": {},
     "output_type": "execute_result"
    }
   ],
   "source": [
    "df_pca.head()"
   ]
  },
  {
   "cell_type": "code",
   "execution_count": 35,
   "id": "d85f7ade",
   "metadata": {},
   "outputs": [],
   "source": [
    "pca_summary = pd.DataFrame({'Standard Deviation':df_pca.std(),\n",
    "                           'Proportion of Variance': pca.explained_variance_ratio_,\n",
    "                           'Cumultive Proportion': pca.explained_variance_ratio_.cumsum()})"
   ]
  },
  {
   "cell_type": "code",
   "execution_count": 36,
   "id": "fd81e1d6",
   "metadata": {},
   "outputs": [
    {
     "data": {
      "text/html": [
       "<div>\n",
       "<style scoped>\n",
       "    .dataframe tbody tr th:only-of-type {\n",
       "        vertical-align: middle;\n",
       "    }\n",
       "\n",
       "    .dataframe tbody tr th {\n",
       "        vertical-align: top;\n",
       "    }\n",
       "\n",
       "    .dataframe thead th {\n",
       "        text-align: right;\n",
       "    }\n",
       "</style>\n",
       "<table border=\"1\" class=\"dataframe\">\n",
       "  <thead>\n",
       "    <tr style=\"text-align: right;\">\n",
       "      <th></th>\n",
       "      <th>Standard Deviation</th>\n",
       "      <th>Proportion of Variance</th>\n",
       "      <th>Cumultive Proportion</th>\n",
       "    </tr>\n",
       "  </thead>\n",
       "  <tbody>\n",
       "    <tr>\n",
       "      <th>PC1</th>\n",
       "      <td>1.845017</td>\n",
       "      <td>0.425007</td>\n",
       "      <td>0.425007</td>\n",
       "    </tr>\n",
       "    <tr>\n",
       "      <th>PC2</th>\n",
       "      <td>1.736646</td>\n",
       "      <td>0.376546</td>\n",
       "      <td>0.801553</td>\n",
       "    </tr>\n",
       "    <tr>\n",
       "      <th>PC3</th>\n",
       "      <td>0.903486</td>\n",
       "      <td>0.101915</td>\n",
       "      <td>0.903468</td>\n",
       "    </tr>\n",
       "    <tr>\n",
       "      <th>PC4</th>\n",
       "      <td>0.517750</td>\n",
       "      <td>0.033468</td>\n",
       "      <td>0.936936</td>\n",
       "    </tr>\n",
       "    <tr>\n",
       "      <th>PC5</th>\n",
       "      <td>0.405239</td>\n",
       "      <td>0.020503</td>\n",
       "      <td>0.957439</td>\n",
       "    </tr>\n",
       "    <tr>\n",
       "      <th>PC6</th>\n",
       "      <td>0.379558</td>\n",
       "      <td>0.017987</td>\n",
       "      <td>0.975426</td>\n",
       "    </tr>\n",
       "    <tr>\n",
       "      <th>PC7</th>\n",
       "      <td>0.337883</td>\n",
       "      <td>0.014254</td>\n",
       "      <td>0.989680</td>\n",
       "    </tr>\n",
       "    <tr>\n",
       "      <th>PC8</th>\n",
       "      <td>0.287510</td>\n",
       "      <td>0.010320</td>\n",
       "      <td>1.000000</td>\n",
       "    </tr>\n",
       "  </tbody>\n",
       "</table>\n",
       "</div>"
      ],
      "text/plain": [
       "     Standard Deviation  Proportion of Variance  Cumultive Proportion\n",
       "PC1            1.845017                0.425007              0.425007\n",
       "PC2            1.736646                0.376546              0.801553\n",
       "PC3            0.903486                0.101915              0.903468\n",
       "PC4            0.517750                0.033468              0.936936\n",
       "PC5            0.405239                0.020503              0.957439\n",
       "PC6            0.379558                0.017987              0.975426\n",
       "PC7            0.337883                0.014254              0.989680\n",
       "PC8            0.287510                0.010320              1.000000"
      ]
     },
     "execution_count": 36,
     "metadata": {},
     "output_type": "execute_result"
    }
   ],
   "source": [
    "pca_summary"
   ]
  },
  {
   "cell_type": "code",
   "execution_count": 37,
   "id": "580f2e0b",
   "metadata": {},
   "outputs": [],
   "source": [
    "factor_loadings = pd.DataFrame(pca.components_, columns = data_segment.columns, index = df_pca.columns).T"
   ]
  },
  {
   "cell_type": "code",
   "execution_count": 38,
   "id": "e6f9f985",
   "metadata": {},
   "outputs": [
    {
     "data": {
      "text/html": [
       "<style  type=\"text/css\" >\n",
       "#T_9efc2_row0_col0{\n",
       "            background-color:  #f2f7fd;\n",
       "            color:  #000000;\n",
       "        }#T_9efc2_row0_col1{\n",
       "            background-color:  #5fa6d1;\n",
       "            color:  #000000;\n",
       "        }#T_9efc2_row0_col2,#T_9efc2_row1_col1{\n",
       "            background-color:  #5ba3d0;\n",
       "            color:  #000000;\n",
       "        }#T_9efc2_row0_col3,#T_9efc2_row1_col0,#T_9efc2_row1_col4,#T_9efc2_row5_col6,#T_9efc2_row6_col5,#T_9efc2_row7_col1,#T_9efc2_row7_col2,#T_9efc2_row7_col7{\n",
       "            background-color:  #f7fbff;\n",
       "            color:  #000000;\n",
       "        }#T_9efc2_row0_col4{\n",
       "            background-color:  #125da6;\n",
       "            color:  #f1f1f1;\n",
       "        }#T_9efc2_row0_col5,#T_9efc2_row6_col7{\n",
       "            background-color:  #3989c1;\n",
       "            color:  #000000;\n",
       "        }#T_9efc2_row0_col6,#T_9efc2_row2_col2,#T_9efc2_row3_col3,#T_9efc2_row3_col4,#T_9efc2_row4_col1,#T_9efc2_row4_col5,#T_9efc2_row5_col7,#T_9efc2_row6_col0{\n",
       "            background-color:  #08306b;\n",
       "            color:  #f1f1f1;\n",
       "        }#T_9efc2_row0_col7{\n",
       "            background-color:  #3686c0;\n",
       "            color:  #000000;\n",
       "        }#T_9efc2_row1_col2{\n",
       "            background-color:  #6dafd7;\n",
       "            color:  #000000;\n",
       "        }#T_9efc2_row1_col3{\n",
       "            background-color:  #3e8ec4;\n",
       "            color:  #000000;\n",
       "        }#T_9efc2_row1_col5{\n",
       "            background-color:  #4292c6;\n",
       "            color:  #000000;\n",
       "        }#T_9efc2_row1_col6{\n",
       "            background-color:  #2373b6;\n",
       "            color:  #f1f1f1;\n",
       "        }#T_9efc2_row1_col7,#T_9efc2_row5_col4{\n",
       "            background-color:  #1d6cb1;\n",
       "            color:  #f1f1f1;\n",
       "        }#T_9efc2_row2_col0{\n",
       "            background-color:  #2575b7;\n",
       "            color:  #000000;\n",
       "        }#T_9efc2_row2_col1{\n",
       "            background-color:  #084285;\n",
       "            color:  #f1f1f1;\n",
       "        }#T_9efc2_row2_col3{\n",
       "            background-color:  #63a8d3;\n",
       "            color:  #000000;\n",
       "        }#T_9efc2_row2_col4,#T_9efc2_row6_col6{\n",
       "            background-color:  #4493c7;\n",
       "            color:  #000000;\n",
       "        }#T_9efc2_row2_col5{\n",
       "            background-color:  #58a1cf;\n",
       "            color:  #000000;\n",
       "        }#T_9efc2_row2_col6{\n",
       "            background-color:  #abd0e6;\n",
       "            color:  #000000;\n",
       "        }#T_9efc2_row2_col7,#T_9efc2_row3_col0{\n",
       "            background-color:  #f4f9fe;\n",
       "            color:  #000000;\n",
       "        }#T_9efc2_row3_col1{\n",
       "            background-color:  #65aad4;\n",
       "            color:  #000000;\n",
       "        }#T_9efc2_row3_col2{\n",
       "            background-color:  #81badb;\n",
       "            color:  #000000;\n",
       "        }#T_9efc2_row3_col5{\n",
       "            background-color:  #4594c7;\n",
       "            color:  #000000;\n",
       "        }#T_9efc2_row3_col6{\n",
       "            background-color:  #084184;\n",
       "            color:  #f1f1f1;\n",
       "        }#T_9efc2_row3_col7{\n",
       "            background-color:  #57a0ce;\n",
       "            color:  #000000;\n",
       "        }#T_9efc2_row4_col0{\n",
       "            background-color:  #084082;\n",
       "            color:  #f1f1f1;\n",
       "        }#T_9efc2_row4_col2{\n",
       "            background-color:  #d5e5f4;\n",
       "            color:  #000000;\n",
       "        }#T_9efc2_row4_col3{\n",
       "            background-color:  #68acd5;\n",
       "            color:  #000000;\n",
       "        }#T_9efc2_row4_col4{\n",
       "            background-color:  #2777b8;\n",
       "            color:  #000000;\n",
       "        }#T_9efc2_row4_col6{\n",
       "            background-color:  #d6e6f4;\n",
       "            color:  #000000;\n",
       "        }#T_9efc2_row4_col7{\n",
       "            background-color:  #0e58a2;\n",
       "            color:  #f1f1f1;\n",
       "        }#T_9efc2_row5_col0,#T_9efc2_row6_col2{\n",
       "            background-color:  #d9e7f5;\n",
       "            color:  #000000;\n",
       "        }#T_9efc2_row5_col1{\n",
       "            background-color:  #edf4fc;\n",
       "            color:  #000000;\n",
       "        }#T_9efc2_row5_col2{\n",
       "            background-color:  #2b7bba;\n",
       "            color:  #000000;\n",
       "        }#T_9efc2_row5_col3{\n",
       "            background-color:  #66abd4;\n",
       "            color:  #000000;\n",
       "        }#T_9efc2_row5_col5{\n",
       "            background-color:  #a5cde3;\n",
       "            color:  #000000;\n",
       "        }#T_9efc2_row6_col1{\n",
       "            background-color:  #08316d;\n",
       "            color:  #f1f1f1;\n",
       "        }#T_9efc2_row6_col3{\n",
       "            background-color:  #71b1d7;\n",
       "            color:  #000000;\n",
       "        }#T_9efc2_row6_col4{\n",
       "            background-color:  #3b8bc2;\n",
       "            color:  #000000;\n",
       "        }#T_9efc2_row7_col0{\n",
       "            background-color:  #a0cbe2;\n",
       "            color:  #000000;\n",
       "        }#T_9efc2_row7_col3{\n",
       "            background-color:  #7fb9da;\n",
       "            color:  #000000;\n",
       "        }#T_9efc2_row7_col4{\n",
       "            background-color:  #4a98c9;\n",
       "            color:  #000000;\n",
       "        }#T_9efc2_row7_col5{\n",
       "            background-color:  #4f9bcb;\n",
       "            color:  #000000;\n",
       "        }#T_9efc2_row7_col6{\n",
       "            background-color:  #a3cce3;\n",
       "            color:  #000000;\n",
       "        }</style><table id=\"T_9efc2_\" ><thead>    <tr>        <th class=\"blank level0\" ></th>        <th class=\"col_heading level0 col0\" >PC1</th>        <th class=\"col_heading level0 col1\" >PC2</th>        <th class=\"col_heading level0 col2\" >PC3</th>        <th class=\"col_heading level0 col3\" >PC4</th>        <th class=\"col_heading level0 col4\" >PC5</th>        <th class=\"col_heading level0 col5\" >PC6</th>        <th class=\"col_heading level0 col6\" >PC7</th>        <th class=\"col_heading level0 col7\" >PC8</th>    </tr></thead><tbody>\n",
       "                <tr>\n",
       "                        <th id=\"T_9efc2_level0_row0\" class=\"row_heading level0 row0\" >Visual Appeal</th>\n",
       "                        <td id=\"T_9efc2_row0_col0\" class=\"data row0 col0\" >-0.480170</td>\n",
       "                        <td id=\"T_9efc2_row0_col1\" class=\"data row0 col1\" >0.117814</td>\n",
       "                        <td id=\"T_9efc2_row0_col2\" class=\"data row0 col2\" >0.063320</td>\n",
       "                        <td id=\"T_9efc2_row0_col3\" class=\"data row0 col3\" >-0.730598</td>\n",
       "                        <td id=\"T_9efc2_row0_col4\" class=\"data row0 col4\" >0.247014</td>\n",
       "                        <td id=\"T_9efc2_row0_col5\" class=\"data row0 col5\" >0.105903</td>\n",
       "                        <td id=\"T_9efc2_row0_col6\" class=\"data row0 col6\" >0.375474</td>\n",
       "                        <td id=\"T_9efc2_row0_col7\" class=\"data row0 col7\" >0.067539</td>\n",
       "            </tr>\n",
       "            <tr>\n",
       "                        <th id=\"T_9efc2_level0_row1\" class=\"row_heading level0 row1\" >Reliability</th>\n",
       "                        <td id=\"T_9efc2_row1_col0\" class=\"data row1 col0\" >-0.494758</td>\n",
       "                        <td id=\"T_9efc2_row1_col1\" class=\"data row1 col1\" >0.124910</td>\n",
       "                        <td id=\"T_9efc2_row1_col2\" class=\"data row1 col2\" >-0.002776</td>\n",
       "                        <td id=\"T_9efc2_row1_col3\" class=\"data row1 col3\" >0.152447</td>\n",
       "                        <td id=\"T_9efc2_row1_col4\" class=\"data row1 col4\" >-0.819319</td>\n",
       "                        <td id=\"T_9efc2_row1_col5\" class=\"data row1 col5\" >0.060484</td>\n",
       "                        <td id=\"T_9efc2_row1_col6\" class=\"data row1 col6\" >0.117211</td>\n",
       "                        <td id=\"T_9efc2_row1_col7\" class=\"data row1 col7\" >0.166384</td>\n",
       "            </tr>\n",
       "            <tr>\n",
       "                        <th id=\"T_9efc2_level0_row2\" class=\"row_heading level0 row2\" >Performance</th>\n",
       "                        <td id=\"T_9efc2_row2_col0\" class=\"data row2 col0\" >-0.128721</td>\n",
       "                        <td id=\"T_9efc2_row2_col1\" class=\"data row2 col1\" >0.459145</td>\n",
       "                        <td id=\"T_9efc2_row2_col2\" class=\"data row2 col2\" >0.574833</td>\n",
       "                        <td id=\"T_9efc2_row2_col3\" class=\"data row2 col3\" >-0.005549</td>\n",
       "                        <td id=\"T_9efc2_row2_col4\" class=\"data row2 col4\" >-0.019902</td>\n",
       "                        <td id=\"T_9efc2_row2_col5\" class=\"data row2 col5\" >-0.025704</td>\n",
       "                        <td id=\"T_9efc2_row2_col6\" class=\"data row2 col6\" >-0.288468</td>\n",
       "                        <td id=\"T_9efc2_row2_col7\" class=\"data row2 col7\" >-0.598232</td>\n",
       "            </tr>\n",
       "            <tr>\n",
       "                        <th id=\"T_9efc2_level0_row3\" class=\"row_heading level0 row3\" >Service Experience</th>\n",
       "                        <td id=\"T_9efc2_row3_col0\" class=\"data row3 col0\" >-0.486499</td>\n",
       "                        <td id=\"T_9efc2_row3_col1\" class=\"data row3 col1\" >0.100691</td>\n",
       "                        <td id=\"T_9efc2_row3_col2\" class=\"data row3 col2\" >-0.054176</td>\n",
       "                        <td id=\"T_9efc2_row3_col3\" class=\"data row3 col3\" >0.653781</td>\n",
       "                        <td id=\"T_9efc2_row3_col4\" class=\"data row3 col4\" >0.470391</td>\n",
       "                        <td id=\"T_9efc2_row3_col5\" class=\"data row3 col5\" >0.052432</td>\n",
       "                        <td id=\"T_9efc2_row3_col6\" class=\"data row3 col6\" >0.311210</td>\n",
       "                        <td id=\"T_9efc2_row3_col7\" class=\"data row3 col7\" >-0.044129</td>\n",
       "            </tr>\n",
       "            <tr>\n",
       "                        <th id=\"T_9efc2_level0_row4\" class=\"row_heading level0 row4\" >Extra Features</th>\n",
       "                        <td id=\"T_9efc2_row4_col0\" class=\"data row4 col0\" >-0.024373</td>\n",
       "                        <td id=\"T_9efc2_row4_col1\" class=\"data row4 col1\" >0.519633</td>\n",
       "                        <td id=\"T_9efc2_row4_col2\" class=\"data row4 col2\" >-0.364578</td>\n",
       "                        <td id=\"T_9efc2_row4_col3\" class=\"data row4 col3\" >-0.023208</td>\n",
       "                        <td id=\"T_9efc2_row4_col4\" class=\"data row4 col4\" >0.116821</td>\n",
       "                        <td id=\"T_9efc2_row4_col5\" class=\"data row4 col5\" >0.559390</td>\n",
       "                        <td id=\"T_9efc2_row4_col6\" class=\"data row4 col6\" >-0.456829</td>\n",
       "                        <td id=\"T_9efc2_row4_col7\" class=\"data row4 col7\" >0.246323</td>\n",
       "            </tr>\n",
       "            <tr>\n",
       "                        <th id=\"T_9efc2_level0_row5\" class=\"row_heading level0 row5\" >Comfort</th>\n",
       "                        <td id=\"T_9efc2_row5_col0\" class=\"data row5 col0\" >-0.418255</td>\n",
       "                        <td id=\"T_9efc2_row5_col1\" class=\"data row5 col1\" >-0.304266</td>\n",
       "                        <td id=\"T_9efc2_row5_col2\" class=\"data row5 col2\" >0.249807</td>\n",
       "                        <td id=\"T_9efc2_row5_col3\" class=\"data row5 col3\" >-0.020111</td>\n",
       "                        <td id=\"T_9efc2_row5_col4\" class=\"data row5 col4\" >0.172621</td>\n",
       "                        <td id=\"T_9efc2_row5_col5\" class=\"data row5 col5\" >-0.296656</td>\n",
       "                        <td id=\"T_9efc2_row5_col6\" class=\"data row5 col6\" >-0.623271</td>\n",
       "                        <td id=\"T_9efc2_row5_col7\" class=\"data row5 col7\" >0.404238</td>\n",
       "            </tr>\n",
       "            <tr>\n",
       "                        <th id=\"T_9efc2_level0_row6\" class=\"row_heading level0 row6\" >Maintenance cost</th>\n",
       "                        <td id=\"T_9efc2_row6_col0\" class=\"data row6 col0\" >0.005912</td>\n",
       "                        <td id=\"T_9efc2_row6_col1\" class=\"data row6 col1\" >0.513208</td>\n",
       "                        <td id=\"T_9efc2_row6_col2\" class=\"data row6 col2\" >-0.386495</td>\n",
       "                        <td id=\"T_9efc2_row6_col3\" class=\"data row6 col3\" >-0.054822</td>\n",
       "                        <td id=\"T_9efc2_row6_col4\" class=\"data row6 col4\" >0.020302</td>\n",
       "                        <td id=\"T_9efc2_row6_col5\" class=\"data row6 col5\" >-0.762039</td>\n",
       "                        <td id=\"T_9efc2_row6_col6\" class=\"data row6 col6\" >-0.003360</td>\n",
       "                        <td id=\"T_9efc2_row6_col7\" class=\"data row6 col7\" >0.055435</td>\n",
       "            </tr>\n",
       "            <tr>\n",
       "                        <th id=\"T_9efc2_level0_row7\" class=\"row_heading level0 row7\" >Value for Money</th>\n",
       "                        <td id=\"T_9efc2_row7_col0\" class=\"data row7 col0\" >-0.309572</td>\n",
       "                        <td id=\"T_9efc2_row7_col1\" class=\"data row7 col1\" >-0.351548</td>\n",
       "                        <td id=\"T_9efc2_row7_col2\" class=\"data row7 col2\" >-0.563840</td>\n",
       "                        <td id=\"T_9efc2_row7_col3\" class=\"data row7 col3\" >-0.107598</td>\n",
       "                        <td id=\"T_9efc2_row7_col4\" class=\"data row7 col4\" >-0.046688</td>\n",
       "                        <td id=\"T_9efc2_row7_col5\" class=\"data row7 col5\" >0.009572</td>\n",
       "                        <td id=\"T_9efc2_row7_col6\" class=\"data row7 col6\" >-0.260855</td>\n",
       "                        <td id=\"T_9efc2_row7_col7\" class=\"data row7 col7\" >-0.617065</td>\n",
       "            </tr>\n",
       "    </tbody></table>"
      ],
      "text/plain": [
       "<pandas.io.formats.style.Styler at 0x2b80fad78b0>"
      ]
     },
     "execution_count": 38,
     "metadata": {},
     "output_type": "execute_result"
    }
   ],
   "source": [
    "factor_loadings.style.background_gradient(cmap = 'Blues')"
   ]
  },
  {
   "cell_type": "code",
   "execution_count": 39,
   "id": "1391fa96",
   "metadata": {},
   "outputs": [],
   "source": [
    "import pandas as pd\n",
    "import numpy as np\n",
    "import seaborn as sns\n",
    "import matplotlib.pyplot as plt\n",
    "from sklearn.preprocessing import LabelEncoder\n",
    "from sklearn.decomposition import PCA\n",
    "from sklearn import preprocessing\n",
    "from bioinfokit.visuz import cluster\n",
    "from sklearn.cluster import KMeans\n",
    "from yellowbrick.cluster import KElbowVisualizer\n",
    "from collections import Counter\n",
    "from statsmodels.graphics.mosaicplot import mosaic\n",
    "from itertools import product"
   ]
  },
  {
   "cell_type": "code",
   "execution_count": 40,
   "id": "72eae4e4",
   "metadata": {},
   "outputs": [],
   "source": [
    "data_km28 = [KMeans(n_clusters = k, random_state = 42).fit(data_scaled) for k in range(2, 9)]"
   ]
  },
  {
   "cell_type": "code",
   "execution_count": 41,
   "id": "e1d8e38a",
   "metadata": {},
   "outputs": [],
   "source": [
    "wcss = [model.inertia_ for model in data_km28]"
   ]
  },
  {
   "cell_type": "code",
   "execution_count": 42,
   "id": "b55e5477",
   "metadata": {},
   "outputs": [
    {
     "data": {
      "image/png": "[encoded data removed]",
      "text/plain": [
       "<Figure size 432x288 with 1 Axes>"
      ]
     },
     "metadata": {},
     "output_type": "display_data"
    }
   ],
   "source": [
    "fig = plt.figure(figsize = (6,4))\n",
    "sns.barplot(x = list(range(2, 9)), y = wcss, color = 'grey')\n",
    "plt.xlabel(\"Segments\")\n",
    "plt.ylabel('Sum of Within Cluster Distances')\n",
    "plt.title(\"Scree plot for the EV 2-Wheeler data set\")\n",
    "plt.savefig(\"scree_plot.png\")\n",
    "plt.show()"
   ]
  },
  {
   "cell_type": "code",
   "execution_count": 43,
   "id": "ff317e16",
   "metadata": {},
   "outputs": [],
   "source": [
    "wcss_diff = pd.DataFrame({'Segments':range(2,9),\n",
    "                          'WCSS Difference': pd.Series(wcss).diff()})\n",
    "wcss_diff['WCSS Difference'][0] = 0"
   ]
  },
  {
   "cell_type": "code",
   "execution_count": 44,
   "id": "8a03560f",
   "metadata": {},
   "outputs": [
    {
     "data": {
      "image/png": "[encoded data removed]",
      "text/plain": [
       "<Figure size 504x288 with 1 Axes>"
      ]
     },
     "metadata": {},
     "output_type": "display_data"
    }
   ],
   "source": [
    "plt.figure(figsize=(7, 4))\n",
    "sns.barplot(x='Segments', y='WCSS Difference', data=wcss_diff)\n",
    "plt.savefig(\"wcss_diff.png\")\n",
    "plt.show()"
   ]
  },
  {
   "cell_type": "markdown",
   "id": "ea31d5e9",
   "metadata": {},
   "source": [
    "The scree plot above played a significant role in guiding the decision-making process, as it revealed a distinct elbow at four segments. This pivotal point indicated a substantial reduction in distances, thereby signifying the optimal number of segments for our analysis."
   ]
  },
  {
   "cell_type": "code",
   "execution_count": 45,
   "id": "bd2026f5",
   "metadata": {},
   "outputs": [],
   "source": [
    "kmeans = data_km28[2]"
   ]
  },
  {
   "cell_type": "code",
   "execution_count": 46,
   "id": "c8e3fc5e",
   "metadata": {},
   "outputs": [],
   "source": [
    "data_clust = pd.DataFrame(data_scaled, columns = data_segment.columns)\n",
    "data_clust['cluster'] = kmeans.labels_"
   ]
  },
  {
   "cell_type": "code",
   "execution_count": 47,
   "id": "4b95f142",
   "metadata": {},
   "outputs": [],
   "source": [
    "data_pca = df_pca.copy()\n",
    "data_pca['cluster'] = kmeans.labels_"
   ]
  },
  {
   "cell_type": "markdown",
   "id": "a99819a2",
   "metadata": {},
   "source": [
    "# Profiling Segments"
   ]
  },
  {
   "cell_type": "code",
   "execution_count": 48,
   "id": "26c2a653",
   "metadata": {},
   "outputs": [],
   "source": [
    "data_profile = data_segment.copy()\n",
    "data_profile['cluster'] = kmeans.labels_"
   ]
  },
  {
   "cell_type": "code",
   "execution_count": 49,
   "id": "4c279c90",
   "metadata": {},
   "outputs": [],
   "source": [
    "columns_segment = data_clust.columns\n",
    "data_pivot = data_profile[columns_segment].groupby('cluster').mean().T"
   ]
  },
  {
   "cell_type": "code",
   "execution_count": 50,
   "id": "6ef90708",
   "metadata": {},
   "outputs": [],
   "source": [
    "data_pivot_mean = data_pivot.mean(axis = 1).reset_index()\n",
    "data_pivot_mean.columns = ['Variable', 'Value']"
   ]
  },
  {
   "cell_type": "code",
   "execution_count": 51,
   "id": "4e962888",
   "metadata": {},
   "outputs": [
    {
     "data": {
      "image/png": "[encoded data removed]",
      "text/plain": [
       "<Figure size 864x648 with 4 Axes>"
      ]
     },
     "metadata": {},
     "output_type": "display_data"
    }
   ],
   "source": [
    "plt.figure(figsize=(12, 9))\n",
    "for i in range(4):\n",
    "    plt.subplot(2, 2, i+1)\n",
    "    sns.barplot(data=data_pivot, x=data_pivot.columns[i], y=data_pivot.index)\n",
    "    sns.scatterplot(data=data_pivot_mean, x='Value', y='Variable', color='red')\n",
    "    for index, row in data_pivot_mean.iterrows():\n",
    "        plt.hlines(y=row['Variable'], xmin=0, xmax=row['Value'], colors='red', alpha=0.2)\n",
    "    plt.ylabel(\"\")\n",
    "    plt.xlabel(\"\")\n",
    "    plt.title(f\"Cluster {i}: {data_profile['cluster'].value_counts()[i]} ({data_profile['cluster'].value_counts()[i]*100/len(data_profile):.0f}%)\")\n",
    "plt.suptitle(\"Segment profile plot for the four-segment solution for the EV 2-Wheeler data set\", fontsize=15)\n",
    "plt.tight_layout()\n",
    "plt.savefig(\"segment_profile.png\")\n",
    "plt.show()"
   ]
  },
  {
   "cell_type": "markdown",
   "id": "27952225",
   "metadata": {},
   "source": [
    "The provided graph offers a visual representation of the varied viewpoints among different consumer segments. Segment 0, which constitutes 13% of consumers, highly values the electric two-wheeler vehicle for its aesthetics, dependability, performance, service quality, and comfort. In contrast, Segment 1 (comprising 33% of consumers) expresses dissatisfaction across all these aspects, making it the largest but least satisfied group. Segment 2 (representing 15% of consumers) appreciates attributes such as visual appeal, reliability, service quality, comfort, and notably, perceives excellent value for money. Lastly, Segment 3 (encompassing 39% of consumers), the largest segment, places high importance on visual appeal, reliability, performance, service quality, additional features, and maintenance costs, highlighting distinct perceptions, particularly regarding features and expenses."
   ]
  },
  {
   "cell_type": "code",
   "execution_count": 52,
   "id": "768979a1",
   "metadata": {},
   "outputs": [
    {
     "data": {
      "image/png": "[encoded data removed]",
      "text/plain": [
       "<Figure size 576x432 with 1 Axes>"
      ]
     },
     "metadata": {},
     "output_type": "display_data"
    }
   ],
   "source": [
    "from sklearn.decomposition import PCA\n",
    "\n",
    "# Perform PCA\n",
    "pca = PCA(n_components=2)\n",
    "principal_components = pca.fit_transform(data_segment)  # Assuming df is your original DataFrame\n",
    "\n",
    "# Create DataFrame with principal components\n",
    "df_pca = pd.DataFrame(data=principal_components, columns=['PC1', 'PC2'])\n",
    "\n",
    "# Plot scatterplot\n",
    "plt.figure(figsize=(8, 6))\n",
    "sns.scatterplot(data=df_pca, x='PC1', y='PC2', color='grey')\n",
    "plt.xlabel('PC1')\n",
    "plt.ylabel('PC2')\n",
    "plt.title('Scatterplot of Principal Components (PC1 vs PC2)')\n",
    "plt.grid(True)\n",
    "plt.show()\n"
   ]
  },
  {
   "cell_type": "markdown",
   "id": "3c8eb4a5",
   "metadata": {},
   "source": [
    "# Describing Segments"
   ]
  },
  {
   "cell_type": "code",
   "execution_count": 53,
   "id": "8e7d7efd",
   "metadata": {},
   "outputs": [],
   "source": [
    "data_desc = data.copy()\n",
    "data_desc['cluster'] = kmeans.labels_"
   ]
  },
  {
   "cell_type": "code",
   "execution_count": 54,
   "id": "57067996",
   "metadata": {},
   "outputs": [
    {
     "data": {
      "text/plain": [
       "Index(['review', 'Used it for', 'Owned for', 'Ridden for', 'rating',\n",
       "       'Visual Appeal', 'Reliability', 'Performance', 'Service Experience',\n",
       "       'Extra Features', 'Comfort', 'Maintenance cost', 'Value for Money',\n",
       "       'Model Name', 'Price', 'Riding Range (km)', 'Top Speed (kmph)',\n",
       "       'Weight (kg)', 'Battery Charging Time (hrs)', 'Rated Power (W)',\n",
       "       'sentiment', 'cluster'],\n",
       "      dtype='object')"
      ]
     },
     "execution_count": 54,
     "metadata": {},
     "output_type": "execute_result"
    }
   ],
   "source": [
    "data_desc.columns"
   ]
  },
  {
   "cell_type": "code",
   "execution_count": 55,
   "id": "a70d3eb1",
   "metadata": {},
   "outputs": [],
   "source": [
    "def mosaicplot(df, color_list, figsize=(5,5), barwidth = 1, title = \"Simple Mosaic Plot\", xlabel = 'cat'):\n",
    "    \n",
    "    fig, ax = plt.subplots(figsize =figsize)\n",
    "    \n",
    "    # Convert to ratio of each row sum and do a cumsum along row\n",
    "    p_cnt_ratio_df = df.div(df.sum(1), axis =0)\n",
    "    ratio_cum_df = p_cnt_ratio_df.cumsum(axis=1)\n",
    "    \n",
    "    # Get column order.\n",
    "    col_order = ratio_cum_df.columns.tolist()\n",
    "        \n",
    "    x = [str(n) for n in ratio_cum_df.index.tolist()]\n",
    "    \n",
    "    # Do the actual plots\n",
    "    for col, colour in zip(col_order[::-1], color_list):\n",
    "        plt.bar(x, ratio_cum_df[col], color=colour, edgecolor='white', width=barwidth, label=col)\n",
    "        \n",
    "    # Add in legend\n",
    "    plt.legend(loc='upper left', bbox_to_anchor=(1,1), ncol=1)\n",
    "    \n",
    "\n",
    "    # Configure title and axis\n",
    "    plt.title(title)\n",
    "    plt.xlabel(\"Segments\")\n",
    "    ax.spines[\"right\"].set_visible(False)\n",
    "    ax.spines[\"left\"].set_visible(False)\n",
    "    ax.spines[\"top\"].set_visible(False)\n",
    "    plt.yticks([])\n",
    "    plt.show()\n"
   ]
  },
  {
   "cell_type": "code",
   "execution_count": 56,
   "id": "5bd2bec5",
   "metadata": {},
   "outputs": [],
   "source": [
    "color_list = ['#1F77B4', '#FF7F0E', '#2CA02C', '#D62728', '#9467BD', '#8C564B', '#E377C2', '#7F7F7F']"
   ]
  },
  {
   "cell_type": "code",
   "execution_count": 57,
   "id": "c3736fb1",
   "metadata": {},
   "outputs": [],
   "source": [
    "sentiment_cluster = pd.crosstab(index = data_desc['cluster'], columns = data_desc['sentiment'])"
   ]
  },
  {
   "cell_type": "markdown",
   "id": "e6b33f92",
   "metadata": {},
   "source": [
    "sentiment_cluster"
   ]
  },
  {
   "cell_type": "code",
   "execution_count": 58,
   "id": "ac121e7a",
   "metadata": {},
   "outputs": [
    {
     "data": {
      "image/png": "[encoded data removed]",
      "text/plain": [
       "<Figure size 432x360 with 1 Axes>"
      ]
     },
     "metadata": {},
     "output_type": "display_data"
    }
   ],
   "source": [
    "mosaicplot(sentiment_cluster, color_list[:3], figsize=(6,5), barwidth = 1)"
   ]
  },
  {
   "cell_type": "markdown",
   "id": "b03f43f2",
   "metadata": {},
   "source": [
    "**The mosaic plot depicted above delves into consumer sentiments, illustrating that the majority of segments exhibit positive sentiments, barring Segment 3. Within Segment 3, consumers express notably negative sentiments, suggesting dissatisfaction across various aspects.**"
   ]
  },
  {
   "cell_type": "code",
   "execution_count": 59,
   "id": "bce7fd97",
   "metadata": {},
   "outputs": [],
   "source": [
    "used_cluster = pd.crosstab(index = data_desc['cluster'], columns = data_desc['Used it for'])"
   ]
  },
  {
   "cell_type": "code",
   "execution_count": 60,
   "id": "33f1d9c4",
   "metadata": {},
   "outputs": [
    {
     "data": {
      "text/html": [
       "<div>\n",
       "<style scoped>\n",
       "    .dataframe tbody tr th:only-of-type {\n",
       "        vertical-align: middle;\n",
       "    }\n",
       "\n",
       "    .dataframe tbody tr th {\n",
       "        vertical-align: top;\n",
       "    }\n",
       "\n",
       "    .dataframe thead th {\n",
       "        text-align: right;\n",
       "    }\n",
       "</style>\n",
       "<table border=\"1\" class=\"dataframe\">\n",
       "  <thead>\n",
       "    <tr style=\"text-align: right;\">\n",
       "      <th>Used it for</th>\n",
       "      <th>Daily Commute</th>\n",
       "      <th>Everything</th>\n",
       "      <th>Leisure Rides</th>\n",
       "      <th>Occasional Commute</th>\n",
       "      <th>Tours</th>\n",
       "    </tr>\n",
       "    <tr>\n",
       "      <th>cluster</th>\n",
       "      <th></th>\n",
       "      <th></th>\n",
       "      <th></th>\n",
       "      <th></th>\n",
       "      <th></th>\n",
       "    </tr>\n",
       "  </thead>\n",
       "  <tbody>\n",
       "    <tr>\n",
       "      <th>0</th>\n",
       "      <td>87</td>\n",
       "      <td>19</td>\n",
       "      <td>2</td>\n",
       "      <td>1</td>\n",
       "      <td>1</td>\n",
       "    </tr>\n",
       "    <tr>\n",
       "      <th>1</th>\n",
       "      <td>194</td>\n",
       "      <td>55</td>\n",
       "      <td>7</td>\n",
       "      <td>19</td>\n",
       "      <td>2</td>\n",
       "    </tr>\n",
       "    <tr>\n",
       "      <th>2</th>\n",
       "      <td>75</td>\n",
       "      <td>39</td>\n",
       "      <td>4</td>\n",
       "      <td>9</td>\n",
       "      <td>0</td>\n",
       "    </tr>\n",
       "    <tr>\n",
       "      <th>3</th>\n",
       "      <td>244</td>\n",
       "      <td>47</td>\n",
       "      <td>7</td>\n",
       "      <td>27</td>\n",
       "      <td>5</td>\n",
       "    </tr>\n",
       "  </tbody>\n",
       "</table>\n",
       "</div>"
      ],
      "text/plain": [
       "Used it for  Daily Commute  Everything  Leisure Rides  Occasional Commute  \\\n",
       "cluster                                                                     \n",
       "0                       87          19              2                   1   \n",
       "1                      194          55              7                  19   \n",
       "2                       75          39              4                   9   \n",
       "3                      244          47              7                  27   \n",
       "\n",
       "Used it for  Tours  \n",
       "cluster             \n",
       "0                1  \n",
       "1                2  \n",
       "2                0  \n",
       "3                5  "
      ]
     },
     "execution_count": 60,
     "metadata": {},
     "output_type": "execute_result"
    }
   ],
   "source": [
    "used_cluster"
   ]
  },
  {
   "cell_type": "code",
   "execution_count": 61,
   "id": "0e8fe5f8",
   "metadata": {},
   "outputs": [
    {
     "data": {
      "image/png": "[encoded data removed]",
      "text/plain": [
       "<Figure size 432x360 with 1 Axes>"
      ]
     },
     "metadata": {},
     "output_type": "display_data"
    }
   ],
   "source": [
    "mosaicplot(used_cluster, color_list[:5], figsize=(6,5), barwidth = 1, title = 'Mosaic plot for cross-tabulation of clusters and used it for for the EV 2-Wheelers data set' )"
   ]
  },
  {
   "cell_type": "markdown",
   "id": "307fcbf1",
   "metadata": {},
   "source": [
    "**The mosaic plot above demonstrates that electric vehicles are primarily utilized by all segments for daily commuting, with minimal usage observed for tours, occasional commuting, and leisure rides.**"
   ]
  },
  {
   "cell_type": "code",
   "execution_count": 62,
   "id": "2b52b165",
   "metadata": {},
   "outputs": [],
   "source": [
    "owned_cluster = pd.crosstab(index = data_desc['cluster'], columns = data_desc['Owned for'])"
   ]
  },
  {
   "cell_type": "code",
   "execution_count": 63,
   "id": "ae39e650",
   "metadata": {},
   "outputs": [
    {
     "data": {
      "text/html": [
       "<div>\n",
       "<style scoped>\n",
       "    .dataframe tbody tr th:only-of-type {\n",
       "        vertical-align: middle;\n",
       "    }\n",
       "\n",
       "    .dataframe tbody tr th {\n",
       "        vertical-align: top;\n",
       "    }\n",
       "\n",
       "    .dataframe thead th {\n",
       "        text-align: right;\n",
       "    }\n",
       "</style>\n",
       "<table border=\"1\" class=\"dataframe\">\n",
       "  <thead>\n",
       "    <tr style=\"text-align: right;\">\n",
       "      <th>Owned for</th>\n",
       "      <th>3-6 months</th>\n",
       "      <th>6 months-1 yr</th>\n",
       "      <th>&lt; 3 months</th>\n",
       "      <th>&gt; 1 yr</th>\n",
       "      <th>Never owned</th>\n",
       "      <th>Occasional Commute</th>\n",
       "    </tr>\n",
       "    <tr>\n",
       "      <th>cluster</th>\n",
       "      <th></th>\n",
       "      <th></th>\n",
       "      <th></th>\n",
       "      <th></th>\n",
       "      <th></th>\n",
       "      <th></th>\n",
       "    </tr>\n",
       "  </thead>\n",
       "  <tbody>\n",
       "    <tr>\n",
       "      <th>0</th>\n",
       "      <td>14</td>\n",
       "      <td>14</td>\n",
       "      <td>43</td>\n",
       "      <td>20</td>\n",
       "      <td>19</td>\n",
       "      <td>0</td>\n",
       "    </tr>\n",
       "    <tr>\n",
       "      <th>1</th>\n",
       "      <td>41</td>\n",
       "      <td>51</td>\n",
       "      <td>79</td>\n",
       "      <td>56</td>\n",
       "      <td>50</td>\n",
       "      <td>0</td>\n",
       "    </tr>\n",
       "    <tr>\n",
       "      <th>2</th>\n",
       "      <td>16</td>\n",
       "      <td>14</td>\n",
       "      <td>31</td>\n",
       "      <td>10</td>\n",
       "      <td>56</td>\n",
       "      <td>0</td>\n",
       "    </tr>\n",
       "    <tr>\n",
       "      <th>3</th>\n",
       "      <td>40</td>\n",
       "      <td>55</td>\n",
       "      <td>67</td>\n",
       "      <td>117</td>\n",
       "      <td>50</td>\n",
       "      <td>1</td>\n",
       "    </tr>\n",
       "  </tbody>\n",
       "</table>\n",
       "</div>"
      ],
      "text/plain": [
       "Owned for  3-6 months  6 months-1 yr  < 3 months  > 1 yr  Never owned  \\\n",
       "cluster                                                                 \n",
       "0                  14             14          43      20           19   \n",
       "1                  41             51          79      56           50   \n",
       "2                  16             14          31      10           56   \n",
       "3                  40             55          67     117           50   \n",
       "\n",
       "Owned for  Occasional Commute  \n",
       "cluster                        \n",
       "0                           0  \n",
       "1                           0  \n",
       "2                           0  \n",
       "3                           1  "
      ]
     },
     "execution_count": 63,
     "metadata": {},
     "output_type": "execute_result"
    }
   ],
   "source": [
    "owned_cluster"
   ]
  },
  {
   "cell_type": "code",
   "execution_count": 64,
   "id": "21c74fdd",
   "metadata": {},
   "outputs": [
    {
     "data": {
      "image/png": "[encoded data removed]",
      "text/plain": [
       "<Figure size 432x360 with 1 Axes>"
      ]
     },
     "metadata": {},
     "output_type": "display_data"
    }
   ],
   "source": [
    "mosaicplot(owned_cluster, color_list[:6], figsize=(6,5), barwidth = 1, title = 'Mosaic plot for cross-tabulation of clusters and owned for for the EV 2-Wheelers data set' )"
   ]
  },
  {
   "cell_type": "markdown",
   "id": "1d6e7275",
   "metadata": {},
   "source": [
    "**Above mosaic plot delineates the ownership duration of electric vehicles among segments. Segment 3 stands out, owning electric vehicles for more than a year, while Segment 2 has no prior ownership experience. Segment 1 members moderately own vehicles ranging from less than 3 months to over a year, and Segment 0 consumers have owned electric vehicles for a few days to less than 3 months.**"
   ]
  },
  {
   "cell_type": "code",
   "execution_count": 65,
   "id": "1ce3ed39",
   "metadata": {},
   "outputs": [],
   "source": [
    "ridden_cluster = pd.crosstab(index = data_desc['cluster'], columns = data_desc['Ridden for'])"
   ]
  },
  {
   "cell_type": "code",
   "execution_count": 66,
   "id": "d0d84793",
   "metadata": {},
   "outputs": [
    {
     "data": {
      "text/html": [
       "<div>\n",
       "<style scoped>\n",
       "    .dataframe tbody tr th:only-of-type {\n",
       "        vertical-align: middle;\n",
       "    }\n",
       "\n",
       "    .dataframe tbody tr th {\n",
       "        vertical-align: top;\n",
       "    }\n",
       "\n",
       "    .dataframe thead th {\n",
       "        text-align: right;\n",
       "    }\n",
       "</style>\n",
       "<table border=\"1\" class=\"dataframe\">\n",
       "  <thead>\n",
       "    <tr style=\"text-align: right;\">\n",
       "      <th>Ridden for</th>\n",
       "      <th>10000-15000 kms</th>\n",
       "      <th>5000-10000 kms</th>\n",
       "      <th>&lt; 5000 kms</th>\n",
       "      <th>&gt; 15000 kms</th>\n",
       "      <th>Never owned</th>\n",
       "    </tr>\n",
       "    <tr>\n",
       "      <th>cluster</th>\n",
       "      <th></th>\n",
       "      <th></th>\n",
       "      <th></th>\n",
       "      <th></th>\n",
       "      <th></th>\n",
       "    </tr>\n",
       "  </thead>\n",
       "  <tbody>\n",
       "    <tr>\n",
       "      <th>0</th>\n",
       "      <td>5</td>\n",
       "      <td>18</td>\n",
       "      <td>63</td>\n",
       "      <td>5</td>\n",
       "      <td>0</td>\n",
       "    </tr>\n",
       "    <tr>\n",
       "      <th>1</th>\n",
       "      <td>11</td>\n",
       "      <td>44</td>\n",
       "      <td>158</td>\n",
       "      <td>14</td>\n",
       "      <td>0</td>\n",
       "    </tr>\n",
       "    <tr>\n",
       "      <th>2</th>\n",
       "      <td>1</td>\n",
       "      <td>15</td>\n",
       "      <td>54</td>\n",
       "      <td>1</td>\n",
       "      <td>0</td>\n",
       "    </tr>\n",
       "    <tr>\n",
       "      <th>3</th>\n",
       "      <td>15</td>\n",
       "      <td>61</td>\n",
       "      <td>184</td>\n",
       "      <td>18</td>\n",
       "      <td>1</td>\n",
       "    </tr>\n",
       "  </tbody>\n",
       "</table>\n",
       "</div>"
      ],
      "text/plain": [
       "Ridden for  10000-15000 kms  5000-10000 kms  < 5000 kms  > 15000 kms  \\\n",
       "cluster                                                                \n",
       "0                         5              18          63            5   \n",
       "1                        11              44         158           14   \n",
       "2                         1              15          54            1   \n",
       "3                        15              61         184           18   \n",
       "\n",
       "Ridden for  Never owned  \n",
       "cluster                  \n",
       "0                     0  \n",
       "1                     0  \n",
       "2                     0  \n",
       "3                     1  "
      ]
     },
     "execution_count": 66,
     "metadata": {},
     "output_type": "execute_result"
    }
   ],
   "source": [
    "ridden_cluster"
   ]
  },
  {
   "cell_type": "code",
   "execution_count": 67,
   "id": "0018601d",
   "metadata": {},
   "outputs": [
    {
     "data": {
      "image/png": "[encoded data removed]",
      "text/plain": [
       "<Figure size 432x360 with 1 Axes>"
      ]
     },
     "metadata": {},
     "output_type": "display_data"
    }
   ],
   "source": [
    "mosaicplot(ridden_cluster, color_list[:5], figsize=(6,5), barwidth = 1, title = 'Mosaic plot for cross-tabulation of clusters and ridden for for the EV 2-Wheelers data set' )"
   ]
  },
  {
   "cell_type": "markdown",
   "id": "22fb10ab",
   "metadata": {},
   "source": [
    "**Above mosaic plot delves into the distances covered by consumers, indicating that all segments predominantly use electric vehicles for commuting, with most users covering distances below 5000 kms. A small portion falls in the 5000 to 10000 kms range, aligning with their commuting needs.**"
   ]
  },
  {
   "cell_type": "code",
   "execution_count": null,
   "id": "5dfe08a5",
   "metadata": {},
   "outputs": [],
   "source": []
  }
 ],
 "metadata": {
  "kernelspec": {
   "display_name": "Python 3",
   "language": "python",
   "name": "python3"
  },
  "language_info": {
   "codemirror_mode": {
    "name": "ipython",
    "version": 3
   },
   "file_extension": ".py",
   "mimetype": "text/x-python",
   "name": "python",
   "nbconvert_exporter": "python",
   "pygments_lexer": "ipython3",
   "version": "3.8.8"
  }
 },
 "nbformat": 4,
 "nbformat_minor": 5
}
